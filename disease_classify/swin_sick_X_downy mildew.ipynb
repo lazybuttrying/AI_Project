{
 "cells": [
  {
   "cell_type": "code",
   "execution_count": 23,
   "id": "7328da04",
   "metadata": {},
   "outputs": [],
   "source": [
    "from IPython.display import clear_output"
   ]
  },
  {
   "cell_type": "code",
   "execution_count": 2,
   "id": "4d61d8a2",
   "metadata": {
    "scrolled": true
   },
   "outputs": [],
   "source": [
    "!pip install timm\n",
    "!pip install fastai\n",
    "clear_output()"
   ]
  },
  {
   "cell_type": "code",
   "execution_count": 1,
   "id": "b5913df2",
   "metadata": {},
   "outputs": [],
   "source": [
    "import timm\n",
    "from timm import create_model"
   ]
  },
  {
   "cell_type": "code",
   "execution_count": 2,
   "id": "f347e16b",
   "metadata": {},
   "outputs": [],
   "source": [
    "seed = 999\n",
    "IMG_SIZE = 224\n",
    "BATCH_SIZE = 14\n",
    "NUM_WORKERS = 8"
   ]
  },
  {
   "cell_type": "code",
   "execution_count": 3,
   "id": "feef1b07",
   "metadata": {},
   "outputs": [],
   "source": [
    "import torch\n",
    "torch.manual_seed(seed)\n",
    "torch.cuda.manual_seed(seed)\n",
    "torch.backends.cudnn.deterministic = True\n",
    "torch.use_deterministic_algorithms = True"
   ]
  },
  {
   "cell_type": "code",
   "execution_count": 42,
   "id": "bd8b6168",
   "metadata": {},
   "outputs": [
    {
     "data": {
      "text/plain": [
       "'/workspace'"
      ]
     },
     "execution_count": 42,
     "metadata": {},
     "output_type": "execute_result"
    }
   ],
   "source": [
    "pwd # 현재 위치"
   ]
  },
  {
   "cell_type": "markdown",
   "id": "f70b4ad6",
   "metadata": {},
   "source": [
    "# Load Train Dataset"
   ]
  },
  {
   "cell_type": "code",
   "execution_count": 4,
   "id": "5f5846c8",
   "metadata": {},
   "outputs": [],
   "source": [
    "#!rm -rf /workspace/dataset/sick/dataset/*.ipynb_checkpoints\n",
    "!rm -rf `find -type d -name .ipynb_checkpoints`"
   ]
  },
  {
   "cell_type": "code",
   "execution_count": 5,
   "id": "5af4b9dd",
   "metadata": {},
   "outputs": [],
   "source": [
    "from torchvision import transforms\n",
    "from torchvision.datasets import ImageFolder\n",
    "from torch.utils.data import DataLoader\n",
    "transforms = torch.nn.Sequential(\n",
    "    transforms.RandomHorizontalFlip(),\n",
    "    transforms.RandomRotation(30),\n",
    "    transforms.Resize(IMG_SIZE)\n",
    ")\n",
    "\n",
    "img_data = ImageFolder(root=\"/workspace/dataset/sick/dataset\",\n",
    "                      transform = transforms)\n"
   ]
  },
  {
   "cell_type": "code",
   "execution_count": 6,
   "id": "c8196f56",
   "metadata": {},
   "outputs": [
    {
     "data": {
      "text/plain": [
       "({0, 1, 2, 3}, ['녹병', '잿빛곰팡이병', '정상', '흰가루병'])"
      ]
     },
     "execution_count": 6,
     "metadata": {},
     "output_type": "execute_result"
    }
   ],
   "source": [
    "set(img_data.targets), img_data.classes"
   ]
  },
  {
   "cell_type": "code",
   "execution_count": 7,
   "id": "ff9b8d1e",
   "metadata": {},
   "outputs": [
    {
     "name": "stdout",
     "output_type": "stream",
     "text": [
      "('/workspace/dataset/sick/dataset/녹병/rust100.jpeg', 0)\n"
     ]
    }
   ],
   "source": [
    "# Look how img_data varaiable are composed\n",
    "for i in img_data.imgs:\n",
    "    print(i)\n",
    "    break"
   ]
  },
  {
   "cell_type": "code",
   "execution_count": 8,
   "id": "8bb81f94",
   "metadata": {},
   "outputs": [
    {
     "data": {
      "text/plain": [
       "686"
      ]
     },
     "execution_count": 8,
     "metadata": {},
     "output_type": "execute_result"
    }
   ],
   "source": [
    "import pandas as pd\n",
    "from sklearn.utils import shuffle\n",
    "\n",
    "df = {\n",
    "    \"path\" : [x[0][10:] for x in img_data.imgs],\n",
    "    \"label\" : img_data.targets,\n",
    "}\n",
    "df = pd.DataFrame(df)\n",
    "train = shuffle(df)\n",
    "\n",
    "# Total train dataset \n",
    "len(train) "
   ]
  },
  {
   "cell_type": "code",
   "execution_count": 9,
   "id": "b510b226",
   "metadata": {},
   "outputs": [],
   "source": [
    "n = len(img_data.classes)"
   ]
  },
  {
   "cell_type": "code",
   "execution_count": 10,
   "id": "3abd8733",
   "metadata": {},
   "outputs": [
    {
     "data": {
      "text/plain": [
       "[59, 196, 359, 72]"
      ]
     },
     "execution_count": 10,
     "metadata": {},
     "output_type": "execute_result"
    }
   ],
   "source": [
    "nums =[0]*n\n",
    "for t in train['label']:\n",
    "    nums[t]+=1\n",
    "    \n",
    "# Numbers of Image about each class\n",
    "nums"
   ]
  },
  {
   "cell_type": "code",
   "execution_count": 11,
   "id": "092a41e4",
   "metadata": {},
   "outputs": [],
   "source": [
    "from fastai.vision.all import *"
   ]
  },
  {
   "cell_type": "code",
   "execution_count": 12,
   "id": "b9dd51cb",
   "metadata": {
    "scrolled": true
   },
   "outputs": [],
   "source": [
    "data = ImageDataLoaders.from_df(train, # train DataFrame\n",
    "                                valid_pct=0.2, #80-20 train-validation split\n",
    "                           seed=seed, #seed\n",
    "                           fn_col='path', \n",
    "                           label_col='label',\n",
    "                           blocks=(ImageBlock, MultiCategoryBlock), #The type of target\n",
    "                           bs=BATCH_SIZE, \n",
    "                           num_workers=NUM_WORKERS, \n",
    "                                # Augmentation\n",
    "                           item_tfms=Resize(IMG_SIZE),\n",
    "                           batch_tfms=setup_aug_tfms([Brightness(), Contrast(), Hue(), Saturation()])) #pass in batch_tfms"
   ]
  },
  {
   "cell_type": "code",
   "execution_count": 13,
   "id": "ce7b5c0b",
   "metadata": {},
   "outputs": [],
   "source": [
    "#print(img_data.class_to_idx)\n",
    "#data.show_batch()"
   ]
  },
  {
   "cell_type": "code",
   "execution_count": 14,
   "id": "27406924",
   "metadata": {},
   "outputs": [
    {
     "name": "stdout",
     "output_type": "stream",
     "text": [
      "14\n"
     ]
    }
   ],
   "source": [
    "# check available batch size\n",
    "for i in range(1,1000):\n",
    "    if (len(data.train) + len(data.valid)) == (len(df)//i):\n",
    "        print(i)"
   ]
  },
  {
   "cell_type": "code",
   "execution_count": 15,
   "id": "10cf55f4",
   "metadata": {},
   "outputs": [],
   "source": [
    "assert (len(data.train) + len(data.valid)) == (len(df)//BATCH_SIZE)"
   ]
  },
  {
   "cell_type": "code",
   "execution_count": 16,
   "id": "d0aa11b9",
   "metadata": {},
   "outputs": [
    {
     "data": {
      "text/plain": [
       "61"
      ]
     },
     "execution_count": 16,
     "metadata": {},
     "output_type": "execute_result"
    }
   ],
   "source": [
    "import gc\n",
    "import torch\n",
    "torch.cuda.empty_cache()\n",
    "gc.collect()"
   ]
  },
  {
   "cell_type": "markdown",
   "id": "cb4d41ed",
   "metadata": {},
   "source": [
    "# Load Model "
   ]
  },
  {
   "cell_type": "code",
   "execution_count": 17,
   "id": "2887709f",
   "metadata": {},
   "outputs": [],
   "source": [
    "# 여기서 다운로드 진행하면 과정이 안 보이고 답답해서\n",
    "# 미리 설치하고 복사하면 빨라짐\n",
    "# 설치 주소는 해당 파일 삭제하면 출력됨\n",
    "# (wget https://github.com/SwinTransformer/storage/releases/download/v1.0.0/swin_base_patch4_window7_224_22kto1k.pth)\n",
    "\n",
    "if not os.path.exists('/root/.cache/torch/hub/checkpoints/'):\n",
    "    os.makedirs('/root/.cache/torch/hub/checkpoints/')\n",
    "!cp '/workspace/swin_base_patch4_window7_224_22kto1k.pth' '/root/.cache/torch/hub/checkpoints/swin_base_patch4_window7_224_22kto1k.pth'"
   ]
  },
  {
   "cell_type": "code",
   "execution_count": 18,
   "id": "cf80f86b",
   "metadata": {},
   "outputs": [],
   "source": [
    "model = create_model('swin_base_patch4_window7_224',  # large는 overfitting, small은 loss는 낮지만 accuracy가 낮음\n",
    "                     pretrained=True,\n",
    "                     num_classes=len(img_data.classes))"
   ]
  },
  {
   "cell_type": "code",
   "execution_count": 19,
   "id": "f46380af",
   "metadata": {},
   "outputs": [
    {
     "data": {
      "text/plain": [
       "9"
      ]
     },
     "execution_count": 19,
     "metadata": {},
     "output_type": "execute_result"
    }
   ],
   "source": [
    "import gc\n",
    "import torch\n",
    "torch.cuda.empty_cache()\n",
    "gc.collect()"
   ]
  },
  {
   "cell_type": "code",
   "execution_count": 20,
   "id": "c475c632",
   "metadata": {},
   "outputs": [],
   "source": [
    "learn = Learner(data,\n",
    "                model,\n",
    "                opt_func = QHAdam,\n",
    "                loss_func= FocalLossFlat(),\n",
    "               ).to_fp16()"
   ]
  },
  {
   "cell_type": "code",
   "execution_count": 21,
   "id": "e5370fb1",
   "metadata": {},
   "outputs": [],
   "source": [
    "#learn.lr_find(end_lr=1e-1)"
   ]
  },
  {
   "cell_type": "markdown",
   "id": "7b0161fe",
   "metadata": {},
   "source": [
    "# Train"
   ]
  },
  {
   "cell_type": "code",
   "execution_count": 22,
   "id": "3639bf09",
   "metadata": {
    "scrolled": false
   },
   "outputs": [
    {
     "data": {
      "text/html": [
       "\n",
       "<style>\n",
       "    /* Turns off some styling */\n",
       "    progress {\n",
       "        /* gets rid of default border in Firefox and Opera. */\n",
       "        border: none;\n",
       "        /* Needs to be in here for Safari polyfill so background images work as expected. */\n",
       "        background-size: auto;\n",
       "    }\n",
       "    .progress-bar-interrupted, .progress-bar-interrupted::-webkit-progress-bar {\n",
       "        background: #F44336;\n",
       "    }\n",
       "</style>\n"
      ],
      "text/plain": [
       "<IPython.core.display.HTML object>"
      ]
     },
     "metadata": {},
     "output_type": "display_data"
    },
    {
     "data": {
      "text/html": [
       "<table border=\"1\" class=\"dataframe\">\n",
       "  <thead>\n",
       "    <tr style=\"text-align: left;\">\n",
       "      <th>epoch</th>\n",
       "      <th>train_loss</th>\n",
       "      <th>valid_loss</th>\n",
       "      <th>time</th>\n",
       "    </tr>\n",
       "  </thead>\n",
       "  <tbody>\n",
       "    <tr>\n",
       "      <td>0</td>\n",
       "      <td>0.229991</td>\n",
       "      <td>0.112130</td>\n",
       "      <td>02:04</td>\n",
       "    </tr>\n",
       "    <tr>\n",
       "      <td>1</td>\n",
       "      <td>0.083753</td>\n",
       "      <td>0.012859</td>\n",
       "      <td>02:02</td>\n",
       "    </tr>\n",
       "  </tbody>\n",
       "</table>"
      ],
      "text/plain": [
       "<IPython.core.display.HTML object>"
      ]
     },
     "metadata": {},
     "output_type": "display_data"
    },
    {
     "name": "stdout",
     "output_type": "stream",
     "text": [
      "Better model found at epoch 0 with valid_loss value: 0.11213028430938721.\n",
      "Better model found at epoch 1 with valid_loss value: 0.012858932837843895.\n"
     ]
    },
    {
     "data": {
      "image/png": "[encoded data removed]",
      "text/plain": [
       "<Figure size 432x288 with 1 Axes>"
      ]
     },
     "metadata": {
      "needs_background": "light"
     },
     "output_type": "display_data"
    }
   ],
   "source": [
    "# validation에서 작동이 안 된다면 kernel을 shutdown한 다음 restart를 하자\n",
    "learn.fit_one_cycle(2,\n",
    "                   1e-4,\n",
    "                   cbs=[SaveModelCallback()])\n",
    "learn.recorder.plot_loss()\n",
    "\n",
    "# train loss가 0.09 쯤일 때가 가장 좋았다."
   ]
  },
  {
   "cell_type": "markdown",
   "id": "c5fad447",
   "metadata": {},
   "source": [
    "# Inference"
   ]
  },
  {
   "cell_type": "code",
   "execution_count": 24,
   "id": "d7887b17",
   "metadata": {},
   "outputs": [],
   "source": [
    "!pip install opencv-python\n",
    "clear_output()"
   ]
  },
  {
   "cell_type": "code",
   "execution_count": 25,
   "id": "6a24755f",
   "metadata": {},
   "outputs": [],
   "source": [
    "# 간단하게 한 장만 확인하는 방법\n",
    "#learn.predict(file_path+file_name)"
   ]
  },
  {
   "cell_type": "code",
   "execution_count": 26,
   "id": "6635b837",
   "metadata": {},
   "outputs": [
    {
     "data": {
      "text/html": [
       "\n",
       "<style>\n",
       "    /* Turns off some styling */\n",
       "    progress {\n",
       "        /* gets rid of default border in Firefox and Opera. */\n",
       "        border: none;\n",
       "        /* Needs to be in here for Safari polyfill so background images work as expected. */\n",
       "        background-size: auto;\n",
       "    }\n",
       "    .progress-bar-interrupted, .progress-bar-interrupted::-webkit-progress-bar {\n",
       "        background: #F44336;\n",
       "    }\n",
       "</style>\n"
      ],
      "text/plain": [
       "<IPython.core.display.HTML object>"
      ]
     },
     "metadata": {},
     "output_type": "display_data"
    },
    {
     "data": {
      "text/html": [
       "\n",
       "    <div>\n",
       "      <progress value='0' class='' max='2' style='width:300px; height:20px; vertical-align: middle;'></progress>\n",
       "      \n",
       "    </div>\n",
       "    \n"
      ],
      "text/plain": [
       "<IPython.core.display.HTML object>"
      ]
     },
     "metadata": {},
     "output_type": "display_data"
    },
    {
     "data": {
      "text/html": [
       "\n",
       "<style>\n",
       "    /* Turns off some styling */\n",
       "    progress {\n",
       "        /* gets rid of default border in Firefox and Opera. */\n",
       "        border: none;\n",
       "        /* Needs to be in here for Safari polyfill so background images work as expected. */\n",
       "        background-size: auto;\n",
       "    }\n",
       "    .progress-bar-interrupted, .progress-bar-interrupted::-webkit-progress-bar {\n",
       "        background: #F44336;\n",
       "    }\n",
       "</style>\n"
      ],
      "text/plain": [
       "<IPython.core.display.HTML object>"
      ]
     },
     "metadata": {},
     "output_type": "display_data"
    },
    {
     "data": {
      "text/html": [],
      "text/plain": [
       "<IPython.core.display.HTML object>"
      ]
     },
     "metadata": {},
     "output_type": "display_data"
    }
   ],
   "source": [
    "# 여기 폴더 명을 달리해서 한다면 언제든지 사용할 수 있다\n",
    "img_data = ImageFolder(root=\"/workspace/dataset/sick/test\",\n",
    "                      transform = transforms)\n",
    "\n",
    "\n",
    "df = {\n",
    "    \"path\" : [x[0][10:] for x in img_data.imgs],\n",
    "    \"label\" : img_data.targets,\n",
    "}\n",
    "test = pd.DataFrame(df)\n",
    "\n",
    "\n",
    "dtest = ImageDataLoaders.from_df(test, #pass in train DataFrame\n",
    "                           fn_col='path', \n",
    "                           label_col='label',\n",
    "                           blocks=(ImageBlock, MultiCategoryBlock), #The type of target\n",
    "                           num_workers=NUM_WORKERS, \n",
    "                           item_tfms=Resize(IMG_SIZE))\n",
    "\n",
    "\n",
    "test_dl = dtest.test_dl(test)\n",
    "preds, _ = learn.tta(dl=test_dl, \n",
    "                     n=4, \n",
    "                     beta=0.25)"
   ]
  },
  {
   "cell_type": "code",
   "execution_count": 27,
   "id": "00ac4879",
   "metadata": {},
   "outputs": [
    {
     "data": {
      "text/plain": [
       "tensor([[0.9660, 0.0168, 0.0070, 0.0103],\n",
       "        [0.8534, 0.0834, 0.0410, 0.0222],\n",
       "        [0.9682, 0.0127, 0.0038, 0.0153],\n",
       "        [0.9684, 0.0132, 0.0021, 0.0164],\n",
       "        [0.8970, 0.0732, 0.0086, 0.0211],\n",
       "        [0.6991, 0.2199, 0.0241, 0.0570],\n",
       "        [0.0054, 0.9298, 0.0605, 0.0043],\n",
       "        [0.0036, 0.9754, 0.0178, 0.0032],\n",
       "        [0.0180, 0.9366, 0.0067, 0.0387],\n",
       "        [0.0205, 0.1071, 0.8518, 0.0206],\n",
       "        [0.0426, 0.4152, 0.5038, 0.0384],\n",
       "        [0.0275, 0.2009, 0.7486, 0.0230],\n",
       "        [0.0191, 0.1023, 0.8652, 0.0134],\n",
       "        [0.0148, 0.0433, 0.0083, 0.9336],\n",
       "        [0.0162, 0.0223, 0.0108, 0.9508],\n",
       "        [0.0203, 0.0293, 0.0129, 0.9375],\n",
       "        [0.0060, 0.0384, 0.0218, 0.9339],\n",
       "        [0.0085, 0.0160, 0.0074, 0.9681]])"
      ]
     },
     "execution_count": 27,
     "metadata": {},
     "output_type": "execute_result"
    }
   ],
   "source": [
    "preds"
   ]
  },
  {
   "cell_type": "code",
   "execution_count": 28,
   "id": "9a5794b1",
   "metadata": {},
   "outputs": [
    {
     "name": "stdout",
     "output_type": "stream",
     "text": [
      "[0, 0, 0, 0, 0, 0, 1, 1, 1, 2, 2, 2, 2, 3, 3, 3, 3, 3]\n",
      "[0, 0, 0, 0, 0, 0, 1, 1, 1, 2, 2, 2, 2, 3, 3, 3, 3, 3]\n"
     ]
    },
    {
     "data": {
      "text/plain": [
       "[]"
      ]
     },
     "execution_count": 28,
     "metadata": {},
     "output_type": "execute_result"
    }
   ],
   "source": [
    "result = [ list(p).index(max(p)) for p in preds]\n",
    "failed = [i for i in range(len(result)) if result[i] != df['label'][i]]\n",
    "\n",
    "print(df['label'])\n",
    "print(result)\n",
    "\n",
    "# 실패한 이미지들\n",
    "failed"
   ]
  },
  {
   "cell_type": "code",
   "execution_count": 29,
   "id": "c3a1fef0",
   "metadata": {},
   "outputs": [
    {
     "name": "stdout",
     "output_type": "stream",
     "text": [
      "{'녹병': 0, '잿빛곰팡이병': 1, '정상': 2, '흰가루병': 3}\n"
     ]
    },
    {
     "data": {
      "text/plain": [
       "<Figure size 720x720 with 0 Axes>"
      ]
     },
     "metadata": {},
     "output_type": "display_data"
    }
   ],
   "source": [
    "import cv2\n",
    "import matplotlib.pyplot as plt\n",
    "\n",
    "\n",
    "print(img_data.class_to_idx)\n",
    "\n",
    "fig = plt.figure(figsize=(10,10))\n",
    "rows = len(failed)\n",
    "cols = 2\n",
    "\n",
    "nth = 1\n",
    "for fail in failed:\n",
    "    img = cv2.imread('/workspace'+df['path'][fail])\n",
    "    ax = fig.add_subplot(rows, cols, nth)\n",
    "    ax.imshow(cv2.cvtColor(img, cv2.COLOR_BGR2RGB))\n",
    "    ax.set_title( str(df['label'][fail]) + '->' + str(result[fail]))\n",
    "    ax.axis(\"off\")\n",
    "    nth += 1\n",
    "plt.show()\n",
    "\n",
    "# 실패한 이미지들에 대해서 이미지 보여주기 - 제목 : 정답 -> 오답"
   ]
  },
  {
   "cell_type": "code",
   "execution_count": null,
   "id": "64ae26f9",
   "metadata": {},
   "outputs": [],
   "source": []
  },
  {
   "cell_type": "markdown",
   "id": "5afe0098",
   "metadata": {},
   "source": [
    "# Model Save and Load"
   ]
  },
  {
   "cell_type": "code",
   "execution_count": 30,
   "id": "dd00d443",
   "metadata": {},
   "outputs": [
    {
     "data": {
      "text/plain": [
       "Path('models/withoutYellow.pth')"
      ]
     },
     "execution_count": 30,
     "metadata": {},
     "output_type": "execute_result"
    }
   ],
   "source": [
    "learn.save('withoutYellow')"
   ]
  },
  {
   "cell_type": "code",
   "execution_count": 43,
   "id": "977f61f8",
   "metadata": {},
   "outputs": [
    {
     "data": {
      "text/plain": [
       "'0.99 GB'"
      ]
     },
     "execution_count": 43,
     "metadata": {},
     "output_type": "execute_result"
    }
   ],
   "source": [
    "n = os.path.getsize('./models/withoutYellow.pth')\n",
    "\"%.2f GB\" % (n / (1024.0 * 1024.0 * 1000.0))"
   ]
  },
  {
   "cell_type": "code",
   "execution_count": 31,
   "id": "6bca4348",
   "metadata": {},
   "outputs": [],
   "source": [
    "del learn"
   ]
  },
  {
   "cell_type": "code",
   "execution_count": 34,
   "id": "d1963831",
   "metadata": {},
   "outputs": [],
   "source": [
    "if not os.path.exists('/root/.cache/torch/hub/checkpoints/'):\n",
    "    os.makedirs('/root/.cache/torch/hub/checkpoints/')\n",
    "!cp '/workspace/swin_base_patch4_window7_224_22kto1k.pth' '/root/.cache/torch/hub/checkpoints/swin_base_patch4_window7_224_22kto1k.pth'"
   ]
  },
  {
   "cell_type": "code",
   "execution_count": 65,
   "id": "8b016d9c",
   "metadata": {},
   "outputs": [
    {
     "data": {
      "text/html": [
       "\n",
       "<style>\n",
       "    /* Turns off some styling */\n",
       "    progress {\n",
       "        /* gets rid of default border in Firefox and Opera. */\n",
       "        border: none;\n",
       "        /* Needs to be in here for Safari polyfill so background images work as expected. */\n",
       "        background-size: auto;\n",
       "    }\n",
       "    .progress-bar-interrupted, .progress-bar-interrupted::-webkit-progress-bar {\n",
       "        background: #F44336;\n",
       "    }\n",
       "</style>\n"
      ],
      "text/plain": [
       "<IPython.core.display.HTML object>"
      ]
     },
     "metadata": {},
     "output_type": "display_data"
    },
    {
     "data": {
      "text/html": [
       "\n",
       "    <div>\n",
       "      <progress value='0' class='' max='1' style='width:300px; height:20px; vertical-align: middle;'></progress>\n",
       "      \n",
       "    </div>\n",
       "    \n"
      ],
      "text/plain": [
       "<IPython.core.display.HTML object>"
      ]
     },
     "metadata": {},
     "output_type": "display_data"
    },
    {
     "data": {
      "text/html": [
       "\n",
       "<style>\n",
       "    /* Turns off some styling */\n",
       "    progress {\n",
       "        /* gets rid of default border in Firefox and Opera. */\n",
       "        border: none;\n",
       "        /* Needs to be in here for Safari polyfill so background images work as expected. */\n",
       "        background-size: auto;\n",
       "    }\n",
       "    .progress-bar-interrupted, .progress-bar-interrupted::-webkit-progress-bar {\n",
       "        background: #F44336;\n",
       "    }\n",
       "</style>\n"
      ],
      "text/plain": [
       "<IPython.core.display.HTML object>"
      ]
     },
     "metadata": {},
     "output_type": "display_data"
    },
    {
     "data": {
      "text/html": [],
      "text/plain": [
       "<IPython.core.display.HTML object>"
      ]
     },
     "metadata": {},
     "output_type": "display_data"
    }
   ],
   "source": [
    "import pandas\n",
    "import timm\n",
    "import fastai\n",
    "from timm import create_model\n",
    "\n",
    "NUM_WORKERS = 8\n",
    "\n",
    "# 여기 폴더 명을 달리해서 한다면 언제든지 사용할 수 있다\n",
    "img_data = ImageFolder(root=\"/workspace/dataset/sick/test\",\n",
    "                      transform = transforms)\n",
    "n = len(img_data.classes)\n",
    "\n",
    "dftest = {\n",
    "    \"path\" : [x[0][10:] for x in img_data.imgs],\n",
    "    \"label\" : img_data.targets,\n",
    "}\n",
    "test = pd.DataFrame(dftest)\n",
    "\n",
    "\n",
    "dtest = ImageDataLoaders.from_df(test, #pass in train DataFrame\n",
    "                           fn_col='path', \n",
    "                           label_col='label',\n",
    "                           blocks=(ImageBlock, MultiCategoryBlock), #The type of target\n",
    "                           num_workers=NUM_WORKERS, \n",
    "                           item_tfms=Resize(224))\n",
    "\n",
    "\n",
    "test_dl = dtest.test_dl(test)\n",
    "\n",
    "model = create_model('swin_base_patch4_window7_224',  # large는 overfitting, small은 loss는 낮지만 accuracy가 낮음\n",
    "                     pretrained=True,\n",
    "                     num_classes=n)\n",
    "\n",
    "learn = Learner(test_dl,\n",
    "    model,            \n",
    "    opt_func = QHAdam,\n",
    "    loss_func= FocalLossFlat(),\n",
    "    model_dir = \"./models/\" \n",
    "    ).to_fp16()\n",
    "\n",
    "learn.load( \"withoutYellow\")\n",
    "\n",
    "predTest, _ = learn.tta(dl=test_dl, \n",
    "                     n=4, \n",
    "                     beta=0.25)"
   ]
  },
  {
   "cell_type": "code",
   "execution_count": 66,
   "id": "21445273",
   "metadata": {},
   "outputs": [
    {
     "name": "stdout",
     "output_type": "stream",
     "text": [
      "[0, 0, 0, 0, 0, 0, 1, 1, 1, 2, 2, 2, 2, 3, 3, 3, 3, 3]\n",
      "[0, 0, 0, 0, 0, 0, 1, 1, 1, 2, 2, 2, 2, 3, 3, 3, 3, 3]\n"
     ]
    },
    {
     "data": {
      "text/plain": [
       "[]"
      ]
     },
     "execution_count": 66,
     "metadata": {},
     "output_type": "execute_result"
    }
   ],
   "source": [
    "result = [ list(p).index(max(p)) for p in predTest]\n",
    "failed = [i for i in range(len(result)) if result[i] != dftest['label'][i]]\n",
    "\n",
    "print(dftest['label'])\n",
    "print(result)\n",
    "\n",
    "# 실패한 이미지들\n",
    "failed"
   ]
  },
  {
   "cell_type": "code",
   "execution_count": null,
   "id": "e68fcc0d",
   "metadata": {},
   "outputs": [],
   "source": []
  },
  {
   "cell_type": "code",
   "execution_count": null,
   "id": "1d68d75a",
   "metadata": {},
   "outputs": [],
   "source": []
  }
 ],
 "metadata": {
  "kernelspec": {
   "display_name": "Python 3 (ipykernel)",
   "language": "python",
   "name": "python3"
  },
  "language_info": {
   "codemirror_mode": {
    "name": "ipython",
    "version": 3
   },
   "file_extension": ".py",
   "mimetype": "text/x-python",
   "name": "python",
   "nbconvert_exporter": "python",
   "pygments_lexer": "ipython3",
   "version": "3.8.10"
  }
 },
 "nbformat": 4,
 "nbformat_minor": 5
}
