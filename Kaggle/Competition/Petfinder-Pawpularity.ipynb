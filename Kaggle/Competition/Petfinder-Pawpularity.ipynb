{
 "cells": [
  {
   "cell_type": "code",
   "execution_count": null,
   "id": "aaadec9a",
   "metadata": {
    "papermill": {
     "duration": 0.046159,
     "end_time": "2021-12-31T07:52:22.598289",
     "exception": false,
     "start_time": "2021-12-31T07:52:22.552130",
     "status": "completed"
    },
    "tags": []
   },
   "outputs": [],
   "source": []
  },
  {
   "cell_type": "code",
   "execution_count": 1,
   "id": "135e72c2",
   "metadata": {
    "execution": {
     "iopub.execute_input": "2021-12-31T07:52:22.670755Z",
     "iopub.status.busy": "2021-12-31T07:52:22.668851Z",
     "iopub.status.idle": "2021-12-31T07:52:28.057801Z",
     "shell.execute_reply": "2021-12-31T07:52:28.057073Z"
    },
    "papermill": {
     "duration": 5.42993,
     "end_time": "2021-12-31T07:52:28.057989",
     "exception": false,
     "start_time": "2021-12-31T07:52:22.628059",
     "status": "completed"
    },
    "tags": []
   },
   "outputs": [],
   "source": [
    "import sys\n",
    "sys.path.append('../input/timm-pytorch-image-models/pytorch-image-models-master')\n",
    "from timm import create_model\n",
    "import timm\n",
    "from fastai.vision.all import *"
   ]
  },
  {
   "cell_type": "code",
   "execution_count": 2,
   "id": "99c7adff",
   "metadata": {
    "execution": {
     "iopub.execute_input": "2021-12-31T07:52:28.097843Z",
     "iopub.status.busy": "2021-12-31T07:52:28.096650Z",
     "iopub.status.idle": "2021-12-31T07:52:28.099204Z",
     "shell.execute_reply": "2021-12-31T07:52:28.099715Z"
    },
    "papermill": {
     "duration": 0.025616,
     "end_time": "2021-12-31T07:52:28.099907",
     "exception": false,
     "start_time": "2021-12-31T07:52:28.074291",
     "status": "completed"
    },
    "tags": []
   },
   "outputs": [],
   "source": [
    "seed = 3407\n",
    "set_seed(seed, reproducible=True)\n",
    "\n",
    "IMG_SIZE = 224\n",
    "BATCH_SIZE = 8        #8               \n",
    "N_FOLDS = 5                           "
   ]
  },
  {
   "cell_type": "code",
   "execution_count": 3,
   "id": "c1b2af5d",
   "metadata": {
    "execution": {
     "iopub.execute_input": "2021-12-31T07:52:28.136679Z",
     "iopub.status.busy": "2021-12-31T07:52:28.135841Z",
     "iopub.status.idle": "2021-12-31T07:52:28.139057Z",
     "shell.execute_reply": "2021-12-31T07:52:28.138470Z"
    },
    "papermill": {
     "duration": 0.023584,
     "end_time": "2021-12-31T07:52:28.139221",
     "exception": false,
     "start_time": "2021-12-31T07:52:28.115637",
     "status": "completed"
    },
    "tags": []
   },
   "outputs": [],
   "source": [
    "seed = 3407\n",
    "set_seed(seed, reproducible=True)\n",
    "torch.manual_seed(seed)\n",
    "torch.cuda.manual_seed(seed)\n",
    "torch.backends.cudnn.deterministic = True\n",
    "torch.use_deterministic_algorithms = True"
   ]
  },
  {
   "cell_type": "code",
   "execution_count": 4,
   "id": "ff93b80c",
   "metadata": {
    "execution": {
     "iopub.execute_input": "2021-12-31T07:52:28.175790Z",
     "iopub.status.busy": "2021-12-31T07:52:28.174825Z",
     "iopub.status.idle": "2021-12-31T07:52:28.180244Z",
     "shell.execute_reply": "2021-12-31T07:52:28.179713Z"
    },
    "papermill": {
     "duration": 0.025007,
     "end_time": "2021-12-31T07:52:28.180367",
     "exception": false,
     "start_time": "2021-12-31T07:52:28.155360",
     "status": "completed"
    },
    "tags": []
   },
   "outputs": [],
   "source": [
    "dataset_path = Path('../input/petfinder-pawpularity-score/')"
   ]
  },
  {
   "cell_type": "code",
   "execution_count": 5,
   "id": "83d66a37",
   "metadata": {
    "execution": {
     "iopub.execute_input": "2021-12-31T07:52:28.217664Z",
     "iopub.status.busy": "2021-12-31T07:52:28.216575Z",
     "iopub.status.idle": "2021-12-31T07:52:28.709339Z",
     "shell.execute_reply": "2021-12-31T07:52:28.709832Z"
    },
    "papermill": {
     "duration": 0.51238,
     "end_time": "2021-12-31T07:52:28.710018",
     "exception": false,
     "start_time": "2021-12-31T07:52:28.197638",
     "status": "completed"
    },
    "tags": []
   },
   "outputs": [
    {
     "name": "stdout",
     "output_type": "stream",
     "text": [
      "There are 9912 images\n",
      "The mean Pawpularity score is 38.03904358353511\n",
      "The median Pawpularity score is 33.0\n",
      "The standard deviation of the Pawpularity score is 20.591990105774535\n",
      "There are 100 unique values of Pawpularity score\n"
     ]
    },
    {
     "data": {
      "image/png": "[encoded data removed]",
      "text/plain": [
       "<Figure size 720x360 with 1 Axes>"
      ]
     },
     "metadata": {
      "needs_background": "light"
     },
     "output_type": "display_data"
    }
   ],
   "source": [
    "train_df = pd.read_csv(dataset_path/'train.csv')\n",
    "#train_df.head()\n",
    "\n",
    "train_df['path'] = train_df['Id'].map(lambda x:str(dataset_path/'train'/x)+'.jpg')\n",
    "train_df = train_df.drop(columns=['Id'])\n",
    "train_df = train_df.sample(frac=1).reset_index(drop=True) #shuffle dataframe\n",
    "#train_df.head()\n",
    "\n",
    "len_df = len(train_df)\n",
    "print(f\"There are {len_df} images\")\n",
    "\n",
    "train_df['Pawpularity'].hist(figsize = (10, 5))\n",
    "print(f\"The mean Pawpularity score is {train_df['Pawpularity'].mean()}\")\n",
    "print(f\"The median Pawpularity score is {train_df['Pawpularity'].median()}\")\n",
    "print(f\"The standard deviation of the Pawpularity score is {train_df['Pawpularity'].std()}\")\n",
    "print(f\"There are {len(train_df['Pawpularity'].unique())} unique values of Pawpularity score\")\n",
    "train_df['norm_score'] = train_df['Pawpularity']/100\n"
   ]
  },
  {
   "cell_type": "code",
   "execution_count": 6,
   "id": "c251cc05",
   "metadata": {
    "execution": {
     "iopub.execute_input": "2021-12-31T07:52:28.754622Z",
     "iopub.status.busy": "2021-12-31T07:52:28.753650Z",
     "iopub.status.idle": "2021-12-31T07:52:36.585217Z",
     "shell.execute_reply": "2021-12-31T07:52:36.584233Z"
    },
    "papermill": {
     "duration": 7.856902,
     "end_time": "2021-12-31T07:52:36.585510",
     "exception": false,
     "start_time": "2021-12-31T07:52:28.728608",
     "status": "completed"
    },
    "tags": []
   },
   "outputs": [],
   "source": [
    "if not os.path.exists('/root/.cache/torch/hub/checkpoints/'):\n",
    "    os.makedirs('/root/.cache/torch/hub/checkpoints/')\n",
    "!cp '../input/swin-transformer/swin_large_patch4_window7_224_22kto1k.pth' '/root/.cache/torch/hub/checkpoints/swin_large_patch4_window7_224_22kto1k.pth'"
   ]
  },
  {
   "cell_type": "code",
   "execution_count": 7,
   "id": "21fe6d54",
   "metadata": {
    "execution": {
     "iopub.execute_input": "2021-12-31T07:52:36.629174Z",
     "iopub.status.busy": "2021-12-31T07:52:36.628272Z",
     "iopub.status.idle": "2021-12-31T07:52:36.631628Z",
     "shell.execute_reply": "2021-12-31T07:52:36.631070Z"
    },
    "papermill": {
     "duration": 0.027904,
     "end_time": "2021-12-31T07:52:36.631786",
     "exception": false,
     "start_time": "2021-12-31T07:52:36.603882",
     "status": "completed"
    },
    "tags": []
   },
   "outputs": [],
   "source": [
    "set_seed(seed, reproducible=True)\n",
    "torch.manual_seed(seed)\n",
    "torch.cuda.manual_seed(seed)\n",
    "torch.backends.cudnn.deterministic = True\n",
    "torch.use_deterministic_algorithms = True"
   ]
  },
  {
   "cell_type": "code",
   "execution_count": 8,
   "id": "7882f9d5",
   "metadata": {
    "execution": {
     "iopub.execute_input": "2021-12-31T07:52:36.675574Z",
     "iopub.status.busy": "2021-12-31T07:52:36.670821Z",
     "iopub.status.idle": "2021-12-31T07:52:36.681036Z",
     "shell.execute_reply": "2021-12-31T07:52:36.680482Z"
    },
    "papermill": {
     "duration": 0.031797,
     "end_time": "2021-12-31T07:52:36.681159",
     "exception": false,
     "start_time": "2021-12-31T07:52:36.649362",
     "status": "completed"
    },
    "tags": []
   },
   "outputs": [],
   "source": [
    "num_bins = int(np.floor(1+(3.3)*(np.log2(len(train_df)))))\n",
    "train_df['bins'] = pd.cut(train_df['norm_score'], bins=num_bins, labels=False)"
   ]
  },
  {
   "cell_type": "code",
   "execution_count": 9,
   "id": "e8a5bf34",
   "metadata": {
    "execution": {
     "iopub.execute_input": "2021-12-31T07:52:36.726889Z",
     "iopub.status.busy": "2021-12-31T07:52:36.725603Z",
     "iopub.status.idle": "2021-12-31T07:52:36.977324Z",
     "shell.execute_reply": "2021-12-31T07:52:36.976742Z"
    },
    "papermill": {
     "duration": 0.277568,
     "end_time": "2021-12-31T07:52:36.977475",
     "exception": false,
     "start_time": "2021-12-31T07:52:36.699907",
     "status": "completed"
    },
    "tags": []
   },
   "outputs": [
    {
     "data": {
      "text/plain": [
       "<AxesSubplot:>"
      ]
     },
     "execution_count": 9,
     "metadata": {},
     "output_type": "execute_result"
    },
    {
     "data": {
      "image/png": "[encoded data removed]",
      "text/plain": [
       "<Figure size 432x288 with 1 Axes>"
      ]
     },
     "metadata": {
      "needs_background": "light"
     },
     "output_type": "display_data"
    }
   ],
   "source": [
    "from sklearn.model_selection import KFold\n",
    "from sklearn.model_selection import StratifiedKFold\n",
    "\n",
    "train_df['fold'] = -1\n",
    "\n",
    "strat_kfold = StratifiedKFold(n_splits=N_FOLDS, random_state=seed, shuffle=True)\n",
    "for i, (_, train_index) in enumerate(strat_kfold.split(train_df.index, train_df['bins'])):\n",
    "    train_df.iloc[train_index, -1] = i\n",
    "    \n",
    "train_df['fold'] = train_df['fold'].astype('int')\n",
    "train_df.fold.value_counts().plot.bar()\n"
   ]
  },
  {
   "cell_type": "code",
   "execution_count": 10,
   "id": "fc45631e",
   "metadata": {
    "execution": {
     "iopub.execute_input": "2021-12-31T07:52:37.023056Z",
     "iopub.status.busy": "2021-12-31T07:52:37.022303Z",
     "iopub.status.idle": "2021-12-31T07:52:37.027001Z",
     "shell.execute_reply": "2021-12-31T07:52:37.026424Z"
    },
    "papermill": {
     "duration": 0.030512,
     "end_time": "2021-12-31T07:52:37.027154",
     "exception": false,
     "start_time": "2021-12-31T07:52:36.996642",
     "status": "completed"
    },
    "tags": []
   },
   "outputs": [],
   "source": [
    "def get_data(fold):\n",
    "    train_df_f = train_df.copy()\n",
    "    # add is_valid for validation fold\n",
    "    train_df_f['is_valid'] = (train_df_f['fold'] == fold)\n",
    "    \n",
    "    dls = ImageDataLoaders.from_df(train_df_f, #pass in train DataFrame\n",
    "#                                valid_pct=0.2, #80-20 train-validation random split\n",
    "                               valid_col='is_valid', #\n",
    "                               seed=seed, #seed\n",
    "                               fn_col='path', #filename/path is in the second column of the DataFrame\n",
    "                               label_col='norm_score', #label is in the first column of the DataFrame\n",
    "                               y_block=RegressionBlock, #The type of target\n",
    "                               bs=BATCH_SIZE, #pass in batch size\n",
    "                               num_workers=8,\n",
    "                               item_tfms=Resize(IMG_SIZE), #pass in item_tfms\n",
    "                               batch_tfms=setup_aug_tfms([Brightness(), Contrast(), Hue(), Saturation()])) #pass in batch_tfms\n",
    "    \n",
    "    return dls"
   ]
  },
  {
   "cell_type": "code",
   "execution_count": 11,
   "id": "34515473",
   "metadata": {
    "execution": {
     "iopub.execute_input": "2021-12-31T07:52:37.070624Z",
     "iopub.status.busy": "2021-12-31T07:52:37.069499Z",
     "iopub.status.idle": "2021-12-31T07:52:41.029957Z",
     "shell.execute_reply": "2021-12-31T07:52:41.029342Z"
    },
    "papermill": {
     "duration": 3.984293,
     "end_time": "2021-12-31T07:52:41.030114",
     "exception": false,
     "start_time": "2021-12-31T07:52:37.045821",
     "status": "completed"
    },
    "tags": []
   },
   "outputs": [],
   "source": [
    "the_data = get_data(0)\n",
    "assert (len(the_data.train) + len(the_data.valid)) == (len(train_df)//BATCH_SIZE)"
   ]
  },
  {
   "cell_type": "code",
   "execution_count": 12,
   "id": "c9bc29b5",
   "metadata": {
    "execution": {
     "iopub.execute_input": "2021-12-31T07:52:41.077315Z",
     "iopub.status.busy": "2021-12-31T07:52:41.076578Z",
     "iopub.status.idle": "2021-12-31T07:52:41.081488Z",
     "shell.execute_reply": "2021-12-31T07:52:41.080953Z"
    },
    "papermill": {
     "duration": 0.030994,
     "end_time": "2021-12-31T07:52:41.081654",
     "exception": false,
     "start_time": "2021-12-31T07:52:41.050660",
     "status": "completed"
    },
    "tags": []
   },
   "outputs": [],
   "source": [
    "def petfinder_rmse(input,target):\n",
    "    return 100*torch.sqrt(F.mse_loss(F.sigmoid(input.flatten()), target))"
   ]
  },
  {
   "cell_type": "code",
   "execution_count": 13,
   "id": "3042db73",
   "metadata": {
    "execution": {
     "iopub.execute_input": "2021-12-31T07:52:41.130068Z",
     "iopub.status.busy": "2021-12-31T07:52:41.129138Z",
     "iopub.status.idle": "2021-12-31T07:52:41.132400Z",
     "shell.execute_reply": "2021-12-31T07:52:41.131873Z"
    },
    "papermill": {
     "duration": 0.030297,
     "end_time": "2021-12-31T07:52:41.132539",
     "exception": false,
     "start_time": "2021-12-31T07:52:41.102242",
     "status": "completed"
    },
    "tags": []
   },
   "outputs": [],
   "source": [
    "def get_learner(fold_num):\n",
    "    data = get_data(fold_num)\n",
    "    \n",
    "    model = create_model('swin_large_patch4_window7_224', \n",
    "                         pretrained=True, num_classes=data.c)\n",
    "    #print(model.__dict__)\n",
    "    learn = Learner(data,\n",
    "                    model,\n",
    "                    opt_func = QHAdam,\n",
    "                    #partial(optim.Adam, lr=0.001, weight_decay=0.0005),\n",
    "                    #optim.Adam(model.parameters(), lr=0.01),\n",
    "                    loss_func=BCEWithLogitsLossFlat(),\n",
    "                    metrics=AccumMetric(func=petfinder_rmse), \n",
    "                   ).to_fp16()\n",
    "    \n",
    "    return learn"
   ]
  },
  {
   "cell_type": "code",
   "execution_count": 14,
   "id": "a61c938d",
   "metadata": {
    "execution": {
     "iopub.execute_input": "2021-12-31T07:52:41.178756Z",
     "iopub.status.busy": "2021-12-31T07:52:41.178090Z",
     "iopub.status.idle": "2021-12-31T07:52:41.191548Z",
     "shell.execute_reply": "2021-12-31T07:52:41.190960Z"
    },
    "papermill": {
     "duration": 0.038997,
     "end_time": "2021-12-31T07:52:41.191676",
     "exception": false,
     "start_time": "2021-12-31T07:52:41.152679",
     "status": "completed"
    },
    "tags": []
   },
   "outputs": [],
   "source": [
    "test_df = pd.read_csv(dataset_path/'test.csv')\n",
    "test_df['Pawpularity'] = [1]*len(test_df)\n",
    "test_df['path'] = test_df['Id'].map(lambda x:str(dataset_path/'test'/x)+'.jpg')\n",
    "test_df = test_df.drop(columns=['Id'])\n",
    "train_df['norm_score'] = train_df['Pawpularity']/100"
   ]
  },
  {
   "cell_type": "code",
   "execution_count": 15,
   "id": "6822a1ce",
   "metadata": {
    "execution": {
     "iopub.execute_input": "2021-12-31T07:52:41.422517Z",
     "iopub.status.busy": "2021-12-31T07:52:41.421567Z",
     "iopub.status.idle": "2021-12-31T07:52:41.425415Z",
     "shell.execute_reply": "2021-12-31T07:52:41.425965Z"
    },
    "papermill": {
     "duration": 0.213306,
     "end_time": "2021-12-31T07:52:41.426173",
     "exception": false,
     "start_time": "2021-12-31T07:52:41.212867",
     "status": "completed"
    },
    "tags": []
   },
   "outputs": [
    {
     "data": {
      "text/plain": [
       "3672"
      ]
     },
     "execution_count": 15,
     "metadata": {},
     "output_type": "execute_result"
    }
   ],
   "source": [
    "import gc\n",
    "import torch\n",
    "torch.cuda.empty_cache()\n",
    "gc.collect()"
   ]
  },
  {
   "cell_type": "code",
   "execution_count": 16,
   "id": "64200fe6",
   "metadata": {
    "execution": {
     "iopub.execute_input": "2021-12-31T07:52:41.478442Z",
     "iopub.status.busy": "2021-12-31T07:52:41.476739Z",
     "iopub.status.idle": "2021-12-31T11:44:34.570391Z",
     "shell.execute_reply": "2021-12-31T11:44:34.570947Z"
    },
    "papermill": {
     "duration": 13913.123554,
     "end_time": "2021-12-31T11:44:34.571134",
     "exception": false,
     "start_time": "2021-12-31T07:52:41.447580",
     "status": "completed"
    },
    "tags": []
   },
   "outputs": [
    {
     "name": "stdout",
     "output_type": "stream",
     "text": [
      "Fold 0 results\n"
     ]
    },
    {
     "data": {
      "text/html": [
       "<table border=\"1\" class=\"dataframe\">\n",
       "  <thead>\n",
       "    <tr style=\"text-align: left;\">\n",
       "      <th>epoch</th>\n",
       "      <th>train_loss</th>\n",
       "      <th>valid_loss</th>\n",
       "      <th>petfinder_rmse</th>\n",
       "      <th>time</th>\n",
       "    </tr>\n",
       "  </thead>\n",
       "  <tbody>\n",
       "    <tr>\n",
       "      <td>0</td>\n",
       "      <td>0.643757</td>\n",
       "      <td>0.642884</td>\n",
       "      <td>17.930088</td>\n",
       "      <td>09:46</td>\n",
       "    </tr>\n",
       "    <tr>\n",
       "      <td>1</td>\n",
       "      <td>0.641903</td>\n",
       "      <td>0.643332</td>\n",
       "      <td>17.976484</td>\n",
       "      <td>09:38</td>\n",
       "    </tr>\n",
       "    <tr>\n",
       "      <td>2</td>\n",
       "      <td>0.629089</td>\n",
       "      <td>0.641797</td>\n",
       "      <td>17.774490</td>\n",
       "      <td>09:35</td>\n",
       "    </tr>\n",
       "    <tr>\n",
       "      <td>3</td>\n",
       "      <td>0.615538</td>\n",
       "      <td>0.645316</td>\n",
       "      <td>18.160999</td>\n",
       "      <td>09:35</td>\n",
       "    </tr>\n",
       "    <tr>\n",
       "      <td>4</td>\n",
       "      <td>0.602911</td>\n",
       "      <td>0.647815</td>\n",
       "      <td>18.403337</td>\n",
       "      <td>09:31</td>\n",
       "    </tr>\n",
       "  </tbody>\n",
       "</table>"
      ],
      "text/plain": [
       "<IPython.core.display.HTML object>"
      ]
     },
     "metadata": {},
     "output_type": "display_data"
    },
    {
     "name": "stderr",
     "output_type": "stream",
     "text": [
      "/opt/conda/lib/python3.7/site-packages/torch/nn/functional.py:1805: UserWarning: nn.functional.sigmoid is deprecated. Use torch.sigmoid instead.\n",
      "  warnings.warn(\"nn.functional.sigmoid is deprecated. Use torch.sigmoid instead.\")\n"
     ]
    },
    {
     "name": "stdout",
     "output_type": "stream",
     "text": [
      "Better model found at epoch 0 with valid_loss value: 0.6428838968276978.\n",
      "Better model found at epoch 2 with valid_loss value: 0.6417965292930603.\n"
     ]
    },
    {
     "data": {
      "text/html": [
       "\n",
       "    <div>\n",
       "        <style>\n",
       "            /* Turns off some styling */\n",
       "            progress {\n",
       "                /* gets rid of default border in Firefox and Opera. */\n",
       "                border: none;\n",
       "                /* Needs to be in here for Safari polyfill so background images work as expected. */\n",
       "                background-size: auto;\n",
       "            }\n",
       "            .progress-bar-interrupted, .progress-bar-interrupted::-webkit-progress-bar {\n",
       "                background: #F44336;\n",
       "            }\n",
       "        </style>\n",
       "      <progress value='0' class='' max='5' style='width:300px; height:20px; vertical-align: middle;'></progress>\n",
       "      \n",
       "    </div>\n",
       "    \n"
      ],
      "text/plain": [
       "<IPython.core.display.HTML object>"
      ]
     },
     "metadata": {},
     "output_type": "display_data"
    },
    {
     "data": {
      "text/html": [],
      "text/plain": [
       "<IPython.core.display.HTML object>"
      ]
     },
     "metadata": {},
     "output_type": "display_data"
    },
    {
     "name": "stdout",
     "output_type": "stream",
     "text": [
      "Fold 1 results\n"
     ]
    },
    {
     "data": {
      "text/html": [
       "<table border=\"1\" class=\"dataframe\">\n",
       "  <thead>\n",
       "    <tr style=\"text-align: left;\">\n",
       "      <th>epoch</th>\n",
       "      <th>train_loss</th>\n",
       "      <th>valid_loss</th>\n",
       "      <th>petfinder_rmse</th>\n",
       "      <th>time</th>\n",
       "    </tr>\n",
       "  </thead>\n",
       "  <tbody>\n",
       "    <tr>\n",
       "      <td>0</td>\n",
       "      <td>0.644136</td>\n",
       "      <td>0.645313</td>\n",
       "      <td>18.289803</td>\n",
       "      <td>09:37</td>\n",
       "    </tr>\n",
       "    <tr>\n",
       "      <td>1</td>\n",
       "      <td>0.639486</td>\n",
       "      <td>0.643794</td>\n",
       "      <td>18.067484</td>\n",
       "      <td>09:36</td>\n",
       "    </tr>\n",
       "    <tr>\n",
       "      <td>2</td>\n",
       "      <td>0.625453</td>\n",
       "      <td>0.644156</td>\n",
       "      <td>18.059072</td>\n",
       "      <td>09:32</td>\n",
       "    </tr>\n",
       "    <tr>\n",
       "      <td>3</td>\n",
       "      <td>0.611940</td>\n",
       "      <td>0.649259</td>\n",
       "      <td>18.574646</td>\n",
       "      <td>09:33</td>\n",
       "    </tr>\n",
       "    <tr>\n",
       "      <td>4</td>\n",
       "      <td>0.611571</td>\n",
       "      <td>0.648737</td>\n",
       "      <td>18.536217</td>\n",
       "      <td>09:33</td>\n",
       "    </tr>\n",
       "  </tbody>\n",
       "</table>"
      ],
      "text/plain": [
       "<IPython.core.display.HTML object>"
      ]
     },
     "metadata": {},
     "output_type": "display_data"
    },
    {
     "name": "stderr",
     "output_type": "stream",
     "text": [
      "/opt/conda/lib/python3.7/site-packages/torch/nn/functional.py:1805: UserWarning: nn.functional.sigmoid is deprecated. Use torch.sigmoid instead.\n",
      "  warnings.warn(\"nn.functional.sigmoid is deprecated. Use torch.sigmoid instead.\")\n"
     ]
    },
    {
     "name": "stdout",
     "output_type": "stream",
     "text": [
      "Better model found at epoch 0 with valid_loss value: 0.6453125476837158.\n",
      "Better model found at epoch 1 with valid_loss value: 0.6437941789627075.\n"
     ]
    },
    {
     "data": {
      "text/html": [
       "\n",
       "    <div>\n",
       "        <style>\n",
       "            /* Turns off some styling */\n",
       "            progress {\n",
       "                /* gets rid of default border in Firefox and Opera. */\n",
       "                border: none;\n",
       "                /* Needs to be in here for Safari polyfill so background images work as expected. */\n",
       "                background-size: auto;\n",
       "            }\n",
       "            .progress-bar-interrupted, .progress-bar-interrupted::-webkit-progress-bar {\n",
       "                background: #F44336;\n",
       "            }\n",
       "        </style>\n",
       "      <progress value='0' class='' max='5' style='width:300px; height:20px; vertical-align: middle;'></progress>\n",
       "      \n",
       "    </div>\n",
       "    \n"
      ],
      "text/plain": [
       "<IPython.core.display.HTML object>"
      ]
     },
     "metadata": {},
     "output_type": "display_data"
    },
    {
     "data": {
      "text/html": [],
      "text/plain": [
       "<IPython.core.display.HTML object>"
      ]
     },
     "metadata": {},
     "output_type": "display_data"
    },
    {
     "name": "stdout",
     "output_type": "stream",
     "text": [
      "Fold 2 results\n"
     ]
    },
    {
     "data": {
      "text/html": [
       "<table border=\"1\" class=\"dataframe\">\n",
       "  <thead>\n",
       "    <tr style=\"text-align: left;\">\n",
       "      <th>epoch</th>\n",
       "      <th>train_loss</th>\n",
       "      <th>valid_loss</th>\n",
       "      <th>petfinder_rmse</th>\n",
       "      <th>time</th>\n",
       "    </tr>\n",
       "  </thead>\n",
       "  <tbody>\n",
       "    <tr>\n",
       "      <td>0</td>\n",
       "      <td>0.645339</td>\n",
       "      <td>0.640977</td>\n",
       "      <td>17.663877</td>\n",
       "      <td>09:33</td>\n",
       "    </tr>\n",
       "    <tr>\n",
       "      <td>1</td>\n",
       "      <td>0.640396</td>\n",
       "      <td>0.641649</td>\n",
       "      <td>17.778244</td>\n",
       "      <td>09:33</td>\n",
       "    </tr>\n",
       "    <tr>\n",
       "      <td>2</td>\n",
       "      <td>0.630238</td>\n",
       "      <td>0.642420</td>\n",
       "      <td>17.862249</td>\n",
       "      <td>09:37</td>\n",
       "    </tr>\n",
       "    <tr>\n",
       "      <td>3</td>\n",
       "      <td>0.610445</td>\n",
       "      <td>0.643366</td>\n",
       "      <td>17.933676</td>\n",
       "      <td>09:32</td>\n",
       "    </tr>\n",
       "  </tbody>\n",
       "</table>"
      ],
      "text/plain": [
       "<IPython.core.display.HTML object>"
      ]
     },
     "metadata": {},
     "output_type": "display_data"
    },
    {
     "name": "stderr",
     "output_type": "stream",
     "text": [
      "/opt/conda/lib/python3.7/site-packages/torch/nn/functional.py:1805: UserWarning: nn.functional.sigmoid is deprecated. Use torch.sigmoid instead.\n",
      "  warnings.warn(\"nn.functional.sigmoid is deprecated. Use torch.sigmoid instead.\")\n"
     ]
    },
    {
     "name": "stdout",
     "output_type": "stream",
     "text": [
      "Better model found at epoch 0 with valid_loss value: 0.6409765481948853.\n",
      "No improvement since epoch 0: early stopping\n"
     ]
    },
    {
     "data": {
      "text/html": [
       "\n",
       "    <div>\n",
       "        <style>\n",
       "            /* Turns off some styling */\n",
       "            progress {\n",
       "                /* gets rid of default border in Firefox and Opera. */\n",
       "                border: none;\n",
       "                /* Needs to be in here for Safari polyfill so background images work as expected. */\n",
       "                background-size: auto;\n",
       "            }\n",
       "            .progress-bar-interrupted, .progress-bar-interrupted::-webkit-progress-bar {\n",
       "                background: #F44336;\n",
       "            }\n",
       "        </style>\n",
       "      <progress value='0' class='' max='5' style='width:300px; height:20px; vertical-align: middle;'></progress>\n",
       "      \n",
       "    </div>\n",
       "    \n"
      ],
      "text/plain": [
       "<IPython.core.display.HTML object>"
      ]
     },
     "metadata": {},
     "output_type": "display_data"
    },
    {
     "data": {
      "text/html": [],
      "text/plain": [
       "<IPython.core.display.HTML object>"
      ]
     },
     "metadata": {},
     "output_type": "display_data"
    },
    {
     "name": "stdout",
     "output_type": "stream",
     "text": [
      "Fold 3 results\n"
     ]
    },
    {
     "data": {
      "text/html": [
       "<table border=\"1\" class=\"dataframe\">\n",
       "  <thead>\n",
       "    <tr style=\"text-align: left;\">\n",
       "      <th>epoch</th>\n",
       "      <th>train_loss</th>\n",
       "      <th>valid_loss</th>\n",
       "      <th>petfinder_rmse</th>\n",
       "      <th>time</th>\n",
       "    </tr>\n",
       "  </thead>\n",
       "  <tbody>\n",
       "    <tr>\n",
       "      <td>0</td>\n",
       "      <td>0.646251</td>\n",
       "      <td>0.642660</td>\n",
       "      <td>17.946043</td>\n",
       "      <td>09:34</td>\n",
       "    </tr>\n",
       "    <tr>\n",
       "      <td>1</td>\n",
       "      <td>0.645409</td>\n",
       "      <td>0.642067</td>\n",
       "      <td>17.865202</td>\n",
       "      <td>09:36</td>\n",
       "    </tr>\n",
       "    <tr>\n",
       "      <td>2</td>\n",
       "      <td>0.628276</td>\n",
       "      <td>0.639995</td>\n",
       "      <td>17.586905</td>\n",
       "      <td>09:39</td>\n",
       "    </tr>\n",
       "    <tr>\n",
       "      <td>3</td>\n",
       "      <td>0.610903</td>\n",
       "      <td>0.641707</td>\n",
       "      <td>17.748634</td>\n",
       "      <td>09:39</td>\n",
       "    </tr>\n",
       "    <tr>\n",
       "      <td>4</td>\n",
       "      <td>0.602873</td>\n",
       "      <td>0.642774</td>\n",
       "      <td>17.853050</td>\n",
       "      <td>09:39</td>\n",
       "    </tr>\n",
       "  </tbody>\n",
       "</table>"
      ],
      "text/plain": [
       "<IPython.core.display.HTML object>"
      ]
     },
     "metadata": {},
     "output_type": "display_data"
    },
    {
     "name": "stderr",
     "output_type": "stream",
     "text": [
      "/opt/conda/lib/python3.7/site-packages/torch/nn/functional.py:1805: UserWarning: nn.functional.sigmoid is deprecated. Use torch.sigmoid instead.\n",
      "  warnings.warn(\"nn.functional.sigmoid is deprecated. Use torch.sigmoid instead.\")\n"
     ]
    },
    {
     "name": "stdout",
     "output_type": "stream",
     "text": [
      "Better model found at epoch 0 with valid_loss value: 0.6426601409912109.\n",
      "Better model found at epoch 1 with valid_loss value: 0.6420669555664062.\n",
      "Better model found at epoch 2 with valid_loss value: 0.6399945020675659.\n"
     ]
    },
    {
     "data": {
      "text/html": [
       "\n",
       "    <div>\n",
       "        <style>\n",
       "            /* Turns off some styling */\n",
       "            progress {\n",
       "                /* gets rid of default border in Firefox and Opera. */\n",
       "                border: none;\n",
       "                /* Needs to be in here for Safari polyfill so background images work as expected. */\n",
       "                background-size: auto;\n",
       "            }\n",
       "            .progress-bar-interrupted, .progress-bar-interrupted::-webkit-progress-bar {\n",
       "                background: #F44336;\n",
       "            }\n",
       "        </style>\n",
       "      <progress value='0' class='' max='5' style='width:300px; height:20px; vertical-align: middle;'></progress>\n",
       "      \n",
       "    </div>\n",
       "    \n"
      ],
      "text/plain": [
       "<IPython.core.display.HTML object>"
      ]
     },
     "metadata": {},
     "output_type": "display_data"
    },
    {
     "data": {
      "text/html": [],
      "text/plain": [
       "<IPython.core.display.HTML object>"
      ]
     },
     "metadata": {},
     "output_type": "display_data"
    },
    {
     "name": "stdout",
     "output_type": "stream",
     "text": [
      "Fold 4 results\n"
     ]
    },
    {
     "data": {
      "text/html": [
       "<table border=\"1\" class=\"dataframe\">\n",
       "  <thead>\n",
       "    <tr style=\"text-align: left;\">\n",
       "      <th>epoch</th>\n",
       "      <th>train_loss</th>\n",
       "      <th>valid_loss</th>\n",
       "      <th>petfinder_rmse</th>\n",
       "      <th>time</th>\n",
       "    </tr>\n",
       "  </thead>\n",
       "  <tbody>\n",
       "    <tr>\n",
       "      <td>0</td>\n",
       "      <td>0.645054</td>\n",
       "      <td>0.649824</td>\n",
       "      <td>18.678881</td>\n",
       "      <td>09:38</td>\n",
       "    </tr>\n",
       "    <tr>\n",
       "      <td>1</td>\n",
       "      <td>0.647601</td>\n",
       "      <td>0.648018</td>\n",
       "      <td>18.601284</td>\n",
       "      <td>09:37</td>\n",
       "    </tr>\n",
       "    <tr>\n",
       "      <td>2</td>\n",
       "      <td>0.629709</td>\n",
       "      <td>0.643397</td>\n",
       "      <td>17.971506</td>\n",
       "      <td>09:37</td>\n",
       "    </tr>\n",
       "    <tr>\n",
       "      <td>3</td>\n",
       "      <td>0.616177</td>\n",
       "      <td>0.644547</td>\n",
       "      <td>18.062063</td>\n",
       "      <td>09:37</td>\n",
       "    </tr>\n",
       "    <tr>\n",
       "      <td>4</td>\n",
       "      <td>0.600790</td>\n",
       "      <td>0.646914</td>\n",
       "      <td>18.305195</td>\n",
       "      <td>09:36</td>\n",
       "    </tr>\n",
       "  </tbody>\n",
       "</table>"
      ],
      "text/plain": [
       "<IPython.core.display.HTML object>"
      ]
     },
     "metadata": {},
     "output_type": "display_data"
    },
    {
     "name": "stderr",
     "output_type": "stream",
     "text": [
      "/opt/conda/lib/python3.7/site-packages/torch/nn/functional.py:1805: UserWarning: nn.functional.sigmoid is deprecated. Use torch.sigmoid instead.\n",
      "  warnings.warn(\"nn.functional.sigmoid is deprecated. Use torch.sigmoid instead.\")\n"
     ]
    },
    {
     "name": "stdout",
     "output_type": "stream",
     "text": [
      "Better model found at epoch 0 with valid_loss value: 0.6498244404792786.\n",
      "Better model found at epoch 1 with valid_loss value: 0.6480183005332947.\n",
      "Better model found at epoch 2 with valid_loss value: 0.6433971524238586.\n"
     ]
    },
    {
     "data": {
      "text/html": [
       "\n",
       "    <div>\n",
       "        <style>\n",
       "            /* Turns off some styling */\n",
       "            progress {\n",
       "                /* gets rid of default border in Firefox and Opera. */\n",
       "                border: none;\n",
       "                /* Needs to be in here for Safari polyfill so background images work as expected. */\n",
       "                background-size: auto;\n",
       "            }\n",
       "            .progress-bar-interrupted, .progress-bar-interrupted::-webkit-progress-bar {\n",
       "                background: #F44336;\n",
       "            }\n",
       "        </style>\n",
       "      <progress value='0' class='' max='5' style='width:300px; height:20px; vertical-align: middle;'></progress>\n",
       "      \n",
       "    </div>\n",
       "    \n"
      ],
      "text/plain": [
       "<IPython.core.display.HTML object>"
      ]
     },
     "metadata": {},
     "output_type": "display_data"
    },
    {
     "data": {
      "text/html": [],
      "text/plain": [
       "<IPython.core.display.HTML object>"
      ]
     },
     "metadata": {},
     "output_type": "display_data"
    },
    {
     "data": {
      "image/png": "[encoded data removed]",
      "text/plain": [
       "<Figure size 432x288 with 1 Axes>"
      ]
     },
     "metadata": {
      "needs_background": "light"
     },
     "output_type": "display_data"
    }
   ],
   "source": [
    "all_preds = []\n",
    "\n",
    "for i in range(N_FOLDS):\n",
    "\n",
    "    print(f'Fold {i} results')\n",
    "    \n",
    "    learn = get_learner(fold_num=i)\n",
    "    \n",
    "\n",
    "    learn.fit_one_cycle(5, \n",
    "                        2e-5, \n",
    "                        cbs=[ \n",
    "                            #CutMix(1.), #https://docs.fast.ai/callback.mixup.html\n",
    "                            SaveModelCallback(), \n",
    "                             EarlyStoppingCallback(monitor='petfinder_rmse', comp=np.less, patience=3)]) \n",
    "    \n",
    "    learn.recorder.plot_loss()\n",
    "\n",
    "    \n",
    "    dls = ImageDataLoaders.from_df(train_df, #pass in train DataFrame\n",
    "                               valid_pct=0.1, #90-10 train-validation random split\n",
    "                               seed=seed, #seed\n",
    "                               fn_col='path', #filename/path is in the second column of the DataFrame\n",
    "                               label_col='norm_score', #label is in the first column of the DataFrame\n",
    "                               y_block=RegressionBlock, #The type of target\n",
    "                               bs=BATCH_SIZE, #pass in batch size\n",
    "                               num_workers=8,\n",
    "                               item_tfms=Resize(IMG_SIZE), #pass in item_tfms\n",
    "                               batch_tfms=setup_aug_tfms([Brightness(), Contrast(), Hue(), Saturation()]),\n",
    "                            ) \n",
    "    \n",
    "    test_dl = dls.test_dl(test_df)\n",
    "    \n",
    "    preds, _ = learn.tta(dl=test_dl, n=N_FOLDS, beta=0)\n",
    "    \n",
    "    all_preds.append(preds)\n",
    "    \n",
    "    del learn\n",
    "    torch.cuda.empty_cache()\n",
    "    gc.collect()"
   ]
  },
  {
   "cell_type": "code",
   "execution_count": null,
   "id": "68172b36",
   "metadata": {
    "papermill": {
     "duration": 0.037517,
     "end_time": "2021-12-31T11:44:34.647197",
     "exception": false,
     "start_time": "2021-12-31T11:44:34.609680",
     "status": "completed"
    },
    "tags": []
   },
   "outputs": [],
   "source": []
  },
  {
   "cell_type": "code",
   "execution_count": 17,
   "id": "5a2939e6",
   "metadata": {
    "execution": {
     "iopub.execute_input": "2021-12-31T11:44:34.729909Z",
     "iopub.status.busy": "2021-12-31T11:44:34.728991Z",
     "iopub.status.idle": "2021-12-31T11:44:34.745610Z",
     "shell.execute_reply": "2021-12-31T11:44:34.745096Z"
    },
    "papermill": {
     "duration": 0.060278,
     "end_time": "2021-12-31T11:44:34.745775",
     "exception": false,
     "start_time": "2021-12-31T11:44:34.685497",
     "status": "completed"
    },
    "tags": []
   },
   "outputs": [
    {
     "data": {
      "text/plain": [
       "[tensor([[0.4702],\n",
       "         [0.4666],\n",
       "         [0.4579],\n",
       "         [0.4766],\n",
       "         [0.4785],\n",
       "         [0.4770],\n",
       "         [0.4697],\n",
       "         [0.4679]]),\n",
       " tensor([[0.4258],\n",
       "         [0.4306],\n",
       "         [0.4269],\n",
       "         [0.4309],\n",
       "         [0.4157],\n",
       "         [0.4248],\n",
       "         [0.4262],\n",
       "         [0.4204]]),\n",
       " tensor([[0.3967],\n",
       "         [0.3897],\n",
       "         [0.3950],\n",
       "         [0.3924],\n",
       "         [0.3878],\n",
       "         [0.3899],\n",
       "         [0.3849],\n",
       "         [0.3873]]),\n",
       " tensor([[0.4573],\n",
       "         [0.4518],\n",
       "         [0.4485],\n",
       "         [0.4528],\n",
       "         [0.4495],\n",
       "         [0.4469],\n",
       "         [0.4519],\n",
       "         [0.4493]]),\n",
       " tensor([[0.4170],\n",
       "         [0.4143],\n",
       "         [0.4097],\n",
       "         [0.4168],\n",
       "         [0.4129],\n",
       "         [0.4036],\n",
       "         [0.4142],\n",
       "         [0.4041]])]"
      ]
     },
     "execution_count": 17,
     "metadata": {},
     "output_type": "execute_result"
    }
   ],
   "source": [
    "all_preds"
   ]
  },
  {
   "cell_type": "code",
   "execution_count": 18,
   "id": "76179997",
   "metadata": {
    "execution": {
     "iopub.execute_input": "2021-12-31T11:44:34.830519Z",
     "iopub.status.busy": "2021-12-31T11:44:34.829622Z",
     "iopub.status.idle": "2021-12-31T11:44:34.836523Z",
     "shell.execute_reply": "2021-12-31T11:44:34.837079Z"
    },
    "papermill": {
     "duration": 0.053316,
     "end_time": "2021-12-31T11:44:34.837217",
     "exception": false,
     "start_time": "2021-12-31T11:44:34.783901",
     "status": "completed"
    },
    "tags": []
   },
   "outputs": [
    {
     "data": {
      "text/plain": [
       "0.42975459"
      ]
     },
     "execution_count": 18,
     "metadata": {},
     "output_type": "execute_result"
    }
   ],
   "source": [
    "np.mean(np.stack(all_preds*100))"
   ]
  },
  {
   "cell_type": "code",
   "execution_count": 19,
   "id": "39c872e2",
   "metadata": {
    "execution": {
     "iopub.execute_input": "2021-12-31T11:44:34.920089Z",
     "iopub.status.busy": "2021-12-31T11:44:34.919460Z",
     "iopub.status.idle": "2021-12-31T11:44:34.938101Z",
     "shell.execute_reply": "2021-12-31T11:44:34.937490Z"
    },
    "papermill": {
     "duration": 0.06033,
     "end_time": "2021-12-31T11:44:34.938230",
     "exception": false,
     "start_time": "2021-12-31T11:44:34.877900",
     "status": "completed"
    },
    "tags": []
   },
   "outputs": [],
   "source": [
    "dataset_path = Path('../input/petfinder-pawpularity-score/')\n",
    "sample_df = pd.read_csv(dataset_path/'sample_submission.csv')\n",
    "preds = np.mean(np.stack(all_preds), axis=0)\n",
    "sample_df['Pawpularity'] = preds*100\n",
    "sample_df.to_csv('submission.csv',index=False)"
   ]
  },
  {
   "cell_type": "code",
   "execution_count": 20,
   "id": "2eb0a952",
   "metadata": {
    "execution": {
     "iopub.execute_input": "2021-12-31T11:44:35.024569Z",
     "iopub.status.busy": "2021-12-31T11:44:35.023553Z",
     "iopub.status.idle": "2021-12-31T11:44:35.037254Z",
     "shell.execute_reply": "2021-12-31T11:44:35.037859Z"
    },
    "papermill": {
     "duration": 0.06063,
     "end_time": "2021-12-31T11:44:35.038004",
     "exception": false,
     "start_time": "2021-12-31T11:44:34.977374",
     "status": "completed"
    },
    "tags": []
   },
   "outputs": [
    {
     "data": {
      "text/html": [
       "<div>\n",
       "<style scoped>\n",
       "    .dataframe tbody tr th:only-of-type {\n",
       "        vertical-align: middle;\n",
       "    }\n",
       "\n",
       "    .dataframe tbody tr th {\n",
       "        vertical-align: top;\n",
       "    }\n",
       "\n",
       "    .dataframe thead th {\n",
       "        text-align: right;\n",
       "    }\n",
       "</style>\n",
       "<table border=\"1\" class=\"dataframe\">\n",
       "  <thead>\n",
       "    <tr style=\"text-align: right;\">\n",
       "      <th></th>\n",
       "      <th>Id</th>\n",
       "      <th>Pawpularity</th>\n",
       "    </tr>\n",
       "  </thead>\n",
       "  <tbody>\n",
       "    <tr>\n",
       "      <th>0</th>\n",
       "      <td>4128bae22183829d2b5fea10effdb0c3</td>\n",
       "      <td>43.338850</td>\n",
       "    </tr>\n",
       "    <tr>\n",
       "      <th>1</th>\n",
       "      <td>43a2262d7738e3d420d453815151079e</td>\n",
       "      <td>43.061000</td>\n",
       "    </tr>\n",
       "    <tr>\n",
       "      <th>2</th>\n",
       "      <td>4e429cead1848a298432a0acad014c9d</td>\n",
       "      <td>42.760000</td>\n",
       "    </tr>\n",
       "    <tr>\n",
       "      <th>3</th>\n",
       "      <td>80bc3ccafcc51b66303c2c263aa38486</td>\n",
       "      <td>43.390594</td>\n",
       "    </tr>\n",
       "    <tr>\n",
       "      <th>4</th>\n",
       "      <td>8f49844c382931444e68dffbe20228f4</td>\n",
       "      <td>42.890137</td>\n",
       "    </tr>\n",
       "    <tr>\n",
       "      <th>5</th>\n",
       "      <td>b03f7041962238a7c9d6537e22f9b017</td>\n",
       "      <td>42.845230</td>\n",
       "    </tr>\n",
       "    <tr>\n",
       "      <th>6</th>\n",
       "      <td>c978013571258ed6d4637f6e8cc9d6a3</td>\n",
       "      <td>42.938050</td>\n",
       "    </tr>\n",
       "    <tr>\n",
       "      <th>7</th>\n",
       "      <td>e0de453c1bffc20c22b072b34b54e50f</td>\n",
       "      <td>42.579826</td>\n",
       "    </tr>\n",
       "  </tbody>\n",
       "</table>\n",
       "</div>"
      ],
      "text/plain": [
       "                                 Id  Pawpularity\n",
       "0  4128bae22183829d2b5fea10effdb0c3    43.338850\n",
       "1  43a2262d7738e3d420d453815151079e    43.061000\n",
       "2  4e429cead1848a298432a0acad014c9d    42.760000\n",
       "3  80bc3ccafcc51b66303c2c263aa38486    43.390594\n",
       "4  8f49844c382931444e68dffbe20228f4    42.890137\n",
       "5  b03f7041962238a7c9d6537e22f9b017    42.845230\n",
       "6  c978013571258ed6d4637f6e8cc9d6a3    42.938050\n",
       "7  e0de453c1bffc20c22b072b34b54e50f    42.579826"
      ]
     },
     "execution_count": 20,
     "metadata": {},
     "output_type": "execute_result"
    }
   ],
   "source": [
    "pd.read_csv('submission.csv')"
   ]
  }
 ],
 "metadata": {
  "kernelspec": {
   "display_name": "Python 3",
   "language": "python",
   "name": "python3"
  },
  "language_info": {
   "codemirror_mode": {
    "name": "ipython",
    "version": 3
   },
   "file_extension": ".py",
   "mimetype": "text/x-python",
   "name": "python",
   "nbconvert_exporter": "python",
   "pygments_lexer": "ipython3",
   "version": "3.7.12"
  },
  "papermill": {
   "default_parameters": {},
   "duration": 13944.275749,
   "end_time": "2021-12-31T11:44:37.020307",
   "environment_variables": {},
   "exception": null,
   "input_path": "__notebook__.ipynb",
   "output_path": "__notebook__.ipynb",
   "parameters": {},
   "start_time": "2021-12-31T07:52:12.744558",
   "version": "2.3.3"
  }
 },
 "nbformat": 4,
 "nbformat_minor": 5
}
