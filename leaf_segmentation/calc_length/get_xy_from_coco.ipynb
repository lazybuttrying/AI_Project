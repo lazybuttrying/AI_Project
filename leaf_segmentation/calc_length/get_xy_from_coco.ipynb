{
  "nbformat": 4,
  "nbformat_minor": 0,
  "metadata": {
    "colab": {
      "name": "cv2_get_dist.ipynb",
      "provenance": [],
      "mount_file_id": "1oMDiJUa9E0UY-Yoy4gL7_ubkewKTvU0o",
      "authorship_tag": "ABX9TyMsSKMPJpSIVb5XtBtjo2vV",
      "include_colab_link": true
    },
    "kernelspec": {
      "name": "python3",
      "display_name": "Python 3"
    },
    "language_info": {
      "name": "python"
    }
  },
  "cells": [
    {
      "cell_type": "markdown",
      "metadata": {
        "id": "view-in-github",
        "colab_type": "text"
      },
      "source": [
        "<a href=\"https://colab.research.google.com/github/lazybuttrying/AI_Project/blob/main/leaf_segmentation/calc_length/get_xy_from_coco.ipynb\" target=\"_parent\"><img src=\"https://colab.research.google.com/assets/colab-badge.svg\" alt=\"Open In Colab\"/></a>"
      ]
    },
    {
      "cell_type": "code",
      "execution_count": 5,
      "metadata": {
        "id": "fKFi41RHKfla",
        "colab": {
          "base_uri": "https://localhost:8080/"
        },
        "outputId": "1e8864fa-c069-4491-9a3e-56625067809b"
      },
      "outputs": [
        {
          "output_type": "stream",
          "name": "stdout",
          "text": [
            "/content/drive/MyDrive/AI\n"
          ]
        }
      ],
      "source": [
        "cd /content/drive/MyDrive/AI/"
      ]
    },
    {
      "cell_type": "code",
      "source": [
        "!unzip safasd-2022-03-10T111831.coco.zip"
      ],
      "metadata": {
        "id": "ClXtC4knNsyy",
        "colab": {
          "base_uri": "https://localhost:8080/"
        },
        "outputId": "7f1d37e8-6ac2-400b-e2b1-c1b352f14442"
      },
      "execution_count": 8,
      "outputs": [
        {
          "output_type": "stream",
          "name": "stdout",
          "text": [
            "Archive:  safasd-2022-03-10T111831.coco.zip\n",
            "   creating: safasd-2022-03-10T111831/\n",
            " extracting: safasd-2022-03-10T111831/annotations.json  \n",
            "   creating: safasd-2022-03-10T111831/images/\n",
            " extracting: safasd-2022-03-10T111831/images/leaf4.png  \n",
            " extracting: safasd-2022-03-10T111831/images/leaf.png  \n",
            " extracting: safasd-2022-03-10T111831/images/leaf2.png  \n",
            " extracting: safasd-2022-03-10T111831/images/leaf3.png  \n"
          ]
        }
      ]
    },
    {
      "cell_type": "code",
      "source": [
        "cd safasd-2022-03-10T111831"
      ],
      "metadata": {
        "colab": {
          "base_uri": "https://localhost:8080/"
        },
        "id": "1WnDPXp-PgPo",
        "outputId": "b4ee41f5-ff1a-41a7-d3ab-cfd512b57d42"
      },
      "execution_count": 10,
      "outputs": [
        {
          "output_type": "stream",
          "name": "stdout",
          "text": [
            "/content/drive/MyDrive/AI/safasd-2022-03-10T111831\n"
          ]
        }
      ]
    },
    {
      "cell_type": "code",
      "source": [
        "import json\n",
        "from pprint import pprint\n",
        "from collections import OrderedDict\n",
        "\n",
        "with open('annotations.json', 'r') as annot:\n",
        "  annot = json.load(annot)\n",
        "pprint(annot['annotations'][3])"
      ],
      "metadata": {
        "colab": {
          "base_uri": "https://localhost:8080/"
        },
        "id": "Cb7b-OxlO9VI",
        "outputId": "de6e6a52-4fab-4ce3-9a7a-bf77bb146446"
      },
      "execution_count": 26,
      "outputs": [
        {
          "output_type": "stream",
          "name": "stdout",
          "text": [
            "{'area': 814208.8479590642,\n",
            " 'bbox': [16.03469412667391,\n",
            "          20.97109113420788,\n",
            "          781.0844203404017,\n",
            "          1042.408255440848],\n",
            " 'category_id': 1,\n",
            " 'id': 4,\n",
            " 'image_id': 4,\n",
            " 'iscrowd': 0,\n",
            " 'segmentation': [[16.034694126673912,\n",
            "                   122.35882205054872,\n",
            "                   86.63342430478019,\n",
            "                   421.19105311802457,\n",
            "                   216.112349737258,\n",
            "                   439.2749619256882,\n",
            "                   294.85766020275264,\n",
            "                   540.0832214355469,\n",
            "                   403.4751281738279,\n",
            "                   962.7803257533483,\n",
            "                   121.19909086681514,\n",
            "                   864.1592872256325,\n",
            "                   155.75949968610462,\n",
            "                   943.5206298828125,\n",
            "                   283.833342052641,\n",
            "                   1044.235126313709,\n",
            "                   486.1728980654759,\n",
            "                   1063.379346575056,\n",
            "                   669.2476951962424,\n",
            "                   1001.1982625325522,\n",
            "                   791.6469726562498,\n",
            "                   818.7963591076079,\n",
            "                   796.050819033668,\n",
            "                   661.394535609654,\n",
            "                   797.1191144670756,\n",
            "                   415.55601864769346,\n",
            "                   687.1493355887274,\n",
            "                   243.76774524507073,\n",
            "                   478.0781162806918,\n",
            "                   65.41995093936009,\n",
            "                   206.73876807803163,\n",
            "                   20.971091134207654,\n",
            "                   16.034694126673912,\n",
            "                   122.35882205054872]]}\n"
          ]
        }
      ]
    },
    {
      "cell_type": "code",
      "source": [
        "# For example, in the following segmentation [[224.24, 297.18, 228.29, 297.18, 234.91, 298.29]]\n",
        "# This polygon contains 3 points where the first point is (224.24, 297.18) and the last point is (234.91, 298.29)\n",
        "\n",
        "temp = annot['annotations'][3]['segmentation'][0]\n",
        "xy = [ (x,y) for x,y in zip(temp[::2], temp[1::2]) ]\n",
        "xy"
      ],
      "metadata": {
        "colab": {
          "base_uri": "https://localhost:8080/"
        },
        "id": "H58G3_vmPch5",
        "outputId": "05b38052-ed55-46d2-85aa-17c73d095d00"
      },
      "execution_count": 29,
      "outputs": [
        {
          "output_type": "execute_result",
          "data": {
            "text/plain": [
              "[(16.034694126673912, 122.35882205054872),\n",
              " (86.63342430478019, 421.19105311802457),\n",
              " (216.112349737258, 439.2749619256882),\n",
              " (294.85766020275264, 540.0832214355469),\n",
              " (403.4751281738279, 962.7803257533483),\n",
              " (121.19909086681514, 864.1592872256325),\n",
              " (155.75949968610462, 943.5206298828125),\n",
              " (283.833342052641, 1044.235126313709),\n",
              " (486.1728980654759, 1063.379346575056),\n",
              " (669.2476951962424, 1001.1982625325522),\n",
              " (791.6469726562498, 818.7963591076079),\n",
              " (796.050819033668, 661.394535609654),\n",
              " (797.1191144670756, 415.55601864769346),\n",
              " (687.1493355887274, 243.76774524507073),\n",
              " (478.0781162806918, 65.41995093936009),\n",
              " (206.73876807803163, 20.971091134207654),\n",
              " (16.034694126673912, 122.35882205054872)]"
            ]
          },
          "metadata": {},
          "execution_count": 29
        }
      ]
    },
    {
      "cell_type": "code",
      "source": [
        ""
      ],
      "metadata": {
        "id": "M6_tXLpbSKeV"
      },
      "execution_count": null,
      "outputs": []
    }
  ]
}