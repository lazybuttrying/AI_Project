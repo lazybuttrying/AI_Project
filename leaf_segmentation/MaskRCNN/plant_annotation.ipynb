{
  "cells": [
    {
      "cell_type": "markdown",
      "metadata": {
        "id": "view-in-github",
        "colab_type": "text"
      },
      "source": [
        "<a href=\"https://colab.research.google.com/github/lazybuttrying/AI_Project/blob/main/leaf_segmentation/MaskRCNN/plant_annotation.ipynb\" target=\"_parent\"><img src=\"https://colab.research.google.com/assets/colab-badge.svg\" alt=\"Open In Colab\"/></a>"
      ]
    },
    {
      "cell_type": "code",
      "source": [
        "from google.colab import drive\n",
        "drive.mount('/gdrive')"
      ],
      "metadata": {
        "id": "44uzQOh3gzzG",
        "outputId": "f727368f-32eb-49ae-fb0e-5ea737b379b3",
        "colab": {
          "base_uri": "https://localhost:8080/"
        }
      },
      "execution_count": 91,
      "outputs": [
        {
          "output_type": "stream",
          "name": "stdout",
          "text": [
            "Drive already mounted at /gdrive; to attempt to forcibly remount, call drive.mount(\"/gdrive\", force_remount=True).\n"
          ]
        }
      ]
    },
    {
      "cell_type": "markdown",
      "source": [
        "### 모든 사진의 이름이 겹치지 않도록 조정"
      ],
      "metadata": {
        "id": "0qnETgTGf64R"
      }
    },
    {
      "cell_type": "code",
      "source": [
        "cd /gdrive/MyDrive/AI/maskrcnn/plant_images"
      ],
      "metadata": {
        "colab": {
          "base_uri": "https://localhost:8080/"
        },
        "id": "RtSQDXHShZB8",
        "outputId": "9c600243-f587-4ae8-f221-ab7a55e7247a"
      },
      "execution_count": 92,
      "outputs": [
        {
          "output_type": "stream",
          "name": "stdout",
          "text": [
            "/gdrive/MyDrive/AI/maskrcnn/plant_images\n"
          ]
        }
      ]
    },
    {
      "cell_type": "code",
      "source": [
        "ls"
      ],
      "metadata": {
        "id": "5QSB2u07yWQZ",
        "outputId": "92b6d464-2a0e-4c13-9b88-36a9550ec051",
        "colab": {
          "base_uri": "https://localhost:8080/"
        }
      },
      "execution_count": 4,
      "outputs": [
        {
          "output_type": "stream",
          "name": "stdout",
          "text": [
            "\u001b[0m\u001b[01;34mAra2012\u001b[0m/  \u001b[01;34mAra2013-Canon\u001b[0m/  \u001b[01;34mAra2013-RPi\u001b[0m/\n"
          ]
        }
      ]
    },
    {
      "cell_type": "code",
      "source": [
        "import os\n",
        "\n",
        "len(os.listdir(\"./Ara2012\"))//3, len(os.listdir(\"./Ara2013-Canon\"))//3, len(os.listdir(\"./Ara2013-RPi\"))//3,\n",
        "#Ara2013-RPi has No Labled Image :("
      ],
      "metadata": {
        "colab": {
          "base_uri": "https://localhost:8080/"
        },
        "id": "GtSwtakhKa_P",
        "outputId": "7298dd19-5df8-4256-ba3f-a5701c68506b"
      },
      "execution_count": 6,
      "outputs": [
        {
          "output_type": "execute_result",
          "data": {
            "text/plain": [
              "(16, 20, 9)"
            ]
          },
          "metadata": {},
          "execution_count": 6
        }
      ]
    },
    {
      "cell_type": "code",
      "source": [
        "# import os\n",
        "\n",
        "# for folder in ['Ara2012', 'Ara2013-Canon', 'Ara2013-RPi']:\n",
        "#   for fname in os.listdir(\"./\"+folder):\n",
        "#     half = fname.find(\"_\")\n",
        "#     old = (\"./\"+folder+\"/\"+fname)\n",
        "#     new = (\"./\"+folder+\"/\"+fname[:half]+ \"~\" + folder + fname[half:])\n",
        "#     os.rename(old, new)"
      ],
      "metadata": {
        "id": "ea4LliBSaI8E"
      },
      "execution_count": 7,
      "outputs": []
    },
    {
      "cell_type": "markdown",
      "source": [
        "# Image to COCO annotation"
      ],
      "metadata": {
        "id": "wn5Q28hFJUeG"
      }
    },
    {
      "cell_type": "code",
      "source": [
        "cd /gdrive/MyDrive/AI/maskrcnn/"
      ],
      "metadata": {
        "id": "NvUVJwoOe4f0",
        "outputId": "9a37243a-bf77-4c36-8cf5-3a3d705fbf1b",
        "colab": {
          "base_uri": "https://localhost:8080/"
        }
      },
      "execution_count": 8,
      "outputs": [
        {
          "output_type": "stream",
          "name": "stdout",
          "text": [
            "/gdrive/MyDrive/AI/maskrcnn\n"
          ]
        }
      ]
    },
    {
      "cell_type": "code",
      "source": [
        "!git clone https://github.com/chrise96/image-to-coco-json-converter.git"
      ],
      "metadata": {
        "colab": {
          "base_uri": "https://localhost:8080/"
        },
        "id": "ShOLiigkhfRb",
        "outputId": "2cc922cb-a92a-4706-9ed4-00e0aaa7f6e3"
      },
      "execution_count": null,
      "outputs": [
        {
          "output_type": "stream",
          "name": "stdout",
          "text": [
            "Cloning into 'image-to-coco-json-converter'...\n",
            "remote: Enumerating objects: 58, done.\u001b[K\n",
            "remote: Counting objects: 100% (58/58), done.\u001b[K\n",
            "remote: Compressing objects: 100% (42/42), done.\u001b[K\n",
            "remote: Total 58 (delta 12), reused 51 (delta 10), pack-reused 0\u001b[K\n",
            "Unpacking objects: 100% (58/58), done.\n"
          ]
        }
      ]
    },
    {
      "cell_type": "code",
      "source": [
        "cd image-to-coco-json-converter"
      ],
      "metadata": {
        "colab": {
          "base_uri": "https://localhost:8080/"
        },
        "id": "fFs8Q58xiJNO",
        "outputId": "8795e614-665c-493a-9dd9-09b2f4f1b141"
      },
      "execution_count": 9,
      "outputs": [
        {
          "output_type": "stream",
          "name": "stdout",
          "text": [
            "/gdrive/MyDrive/AI/maskrcnn/image-to-coco-json-converter\n"
          ]
        }
      ]
    },
    {
      "cell_type": "code",
      "source": [
        "!pip install -r requirements.txt"
      ],
      "metadata": {
        "colab": {
          "base_uri": "https://localhost:8080/",
          "height": 912
        },
        "id": "5XvkfIDFiNoy",
        "outputId": "dd0fd733-f60d-4737-96ff-21fad31a46f2"
      },
      "execution_count": 10,
      "outputs": [
        {
          "output_type": "stream",
          "name": "stdout",
          "text": [
            "Collecting Pillow==7.2.0\n",
            "  Downloading Pillow-7.2.0-cp37-cp37m-manylinux1_x86_64.whl (2.2 MB)\n",
            "\u001b[K     |████████████████████████████████| 2.2 MB 22.5 MB/s \n",
            "\u001b[?25hCollecting Shapely==1.7.1\n",
            "  Downloading Shapely-1.7.1-cp37-cp37m-manylinux1_x86_64.whl (1.0 MB)\n",
            "\u001b[K     |████████████████████████████████| 1.0 MB 43.8 MB/s \n",
            "\u001b[?25hCollecting scikit-image==0.17.2\n",
            "  Downloading scikit_image-0.17.2-cp37-cp37m-manylinux1_x86_64.whl (12.5 MB)\n",
            "\u001b[K     |████████████████████████████████| 12.5 MB 46.7 MB/s \n",
            "\u001b[?25hCollecting numpy==1.18.5\n",
            "  Downloading numpy-1.18.5-cp37-cp37m-manylinux1_x86_64.whl (20.1 MB)\n",
            "\u001b[K     |████████████████████████████████| 20.1 MB 1.4 MB/s \n",
            "\u001b[?25hRequirement already satisfied: imageio>=2.3.0 in /usr/local/lib/python3.7/dist-packages (from scikit-image==0.17.2->-r requirements.txt (line 3)) (2.4.1)\n",
            "Requirement already satisfied: matplotlib!=3.0.0,>=2.0.0 in /usr/local/lib/python3.7/dist-packages (from scikit-image==0.17.2->-r requirements.txt (line 3)) (3.2.2)\n",
            "Requirement already satisfied: scipy>=1.0.1 in /usr/local/lib/python3.7/dist-packages (from scikit-image==0.17.2->-r requirements.txt (line 3)) (1.4.1)\n",
            "Requirement already satisfied: tifffile>=2019.7.26 in /usr/local/lib/python3.7/dist-packages (from scikit-image==0.17.2->-r requirements.txt (line 3)) (2021.11.2)\n",
            "Requirement already satisfied: networkx>=2.0 in /usr/local/lib/python3.7/dist-packages (from scikit-image==0.17.2->-r requirements.txt (line 3)) (2.6.3)\n",
            "Requirement already satisfied: PyWavelets>=1.1.1 in /usr/local/lib/python3.7/dist-packages (from scikit-image==0.17.2->-r requirements.txt (line 3)) (1.2.0)\n",
            "Requirement already satisfied: python-dateutil>=2.1 in /usr/local/lib/python3.7/dist-packages (from matplotlib!=3.0.0,>=2.0.0->scikit-image==0.17.2->-r requirements.txt (line 3)) (2.8.2)\n",
            "Requirement already satisfied: pyparsing!=2.0.4,!=2.1.2,!=2.1.6,>=2.0.1 in /usr/local/lib/python3.7/dist-packages (from matplotlib!=3.0.0,>=2.0.0->scikit-image==0.17.2->-r requirements.txt (line 3)) (3.0.7)\n",
            "Requirement already satisfied: kiwisolver>=1.0.1 in /usr/local/lib/python3.7/dist-packages (from matplotlib!=3.0.0,>=2.0.0->scikit-image==0.17.2->-r requirements.txt (line 3)) (1.3.2)\n",
            "Requirement already satisfied: cycler>=0.10 in /usr/local/lib/python3.7/dist-packages (from matplotlib!=3.0.0,>=2.0.0->scikit-image==0.17.2->-r requirements.txt (line 3)) (0.11.0)\n",
            "Requirement already satisfied: six>=1.5 in /usr/local/lib/python3.7/dist-packages (from python-dateutil>=2.1->matplotlib!=3.0.0,>=2.0.0->scikit-image==0.17.2->-r requirements.txt (line 3)) (1.15.0)\n",
            "Installing collected packages: Pillow, numpy, Shapely, scikit-image\n",
            "  Attempting uninstall: Pillow\n",
            "    Found existing installation: Pillow 7.1.2\n",
            "    Uninstalling Pillow-7.1.2:\n",
            "      Successfully uninstalled Pillow-7.1.2\n",
            "  Attempting uninstall: numpy\n",
            "    Found existing installation: numpy 1.19.5\n",
            "    Uninstalling numpy-1.19.5:\n",
            "      Successfully uninstalled numpy-1.19.5\n",
            "  Attempting uninstall: Shapely\n",
            "    Found existing installation: Shapely 1.8.0\n",
            "    Uninstalling Shapely-1.8.0:\n",
            "      Successfully uninstalled Shapely-1.8.0\n",
            "  Attempting uninstall: scikit-image\n",
            "    Found existing installation: scikit-image 0.18.3\n",
            "    Uninstalling scikit-image-0.18.3:\n",
            "      Successfully uninstalled scikit-image-0.18.3\n",
            "\u001b[31mERROR: pip's dependency resolver does not currently take into account all the packages that are installed. This behaviour is the source of the following dependency conflicts.\n",
            "datascience 0.10.6 requires folium==0.2.1, but you have folium 0.8.3 which is incompatible.\n",
            "albumentations 0.1.12 requires imgaug<0.2.7,>=0.2.5, but you have imgaug 0.2.9 which is incompatible.\u001b[0m\n",
            "Successfully installed Pillow-7.2.0 Shapely-1.7.1 numpy-1.18.5 scikit-image-0.17.2\n"
          ]
        },
        {
          "output_type": "display_data",
          "data": {
            "application/vnd.colab-display-data+json": {
              "pip_warning": {
                "packages": [
                  "PIL",
                  "numpy"
                ]
              }
            }
          },
          "metadata": {}
        }
      ]
    },
    {
      "cell_type": "markdown",
      "source": [
        "### label 이미지 마련하기"
      ],
      "metadata": {
        "id": "9edL0bFxgFFw"
      }
    },
    {
      "cell_type": "code",
      "source": [
        "cd /gdrive/MyDrive/AI/maskrcnn/image-to-coco-json-converter/dataset"
      ],
      "metadata": {
        "colab": {
          "base_uri": "https://localhost:8080/"
        },
        "id": "7FN1BVu5S5q-",
        "outputId": "2d8cb88b-6233-4c22-afcc-5d0ef2b68dc1"
      },
      "execution_count": 69,
      "outputs": [
        {
          "output_type": "stream",
          "name": "stdout",
          "text": [
            "/gdrive/MyDrive/AI/maskrcnn/image-to-coco-json-converter/dataset\n"
          ]
        }
      ]
    },
    {
      "cell_type": "code",
      "source": [
        "!mkdir plant_img\n",
        "!mkdir plant_img/train_mask\n",
        "!mkdir plant_img/val_mask"
      ],
      "metadata": {
        "id": "vOxPyGvFS9YX"
      },
      "execution_count": 70,
      "outputs": []
    },
    {
      "cell_type": "code",
      "source": [
        "cd /gdrive/MyDrive/AI/maskrcnn/plant_images"
      ],
      "metadata": {
        "id": "5w3y8hnafAYo",
        "outputId": "b3735d19-a52f-4ea9-bba3-3824c4a05890",
        "colab": {
          "base_uri": "https://localhost:8080/"
        }
      },
      "execution_count": 71,
      "outputs": [
        {
          "output_type": "stream",
          "name": "stdout",
          "text": [
            "/gdrive/MyDrive/AI/maskrcnn/plant_images\n"
          ]
        }
      ]
    },
    {
      "cell_type": "code",
      "source": [
        "# train 24, val 6, (test 9)\n",
        "\n",
        "!cp Ara2012/*_fg.png /gdrive/MyDrive/AI/maskrcnn/image-to-coco-json-converter/dataset/plant_img/val_mask\n",
        "!cp Ara2013-Canon/*_fg.png /gdrive/MyDrive/AI/maskrcnn/image-to-coco-json-converter/dataset/plant_img/train_mask"
      ],
      "metadata": {
        "id": "Bt-lMvneTdEo"
      },
      "execution_count": 72,
      "outputs": []
    },
    {
      "cell_type": "code",
      "source": [
        "import shutil\n",
        "path ='/gdrive/MyDrive/AI/maskrcnn/image-to-coco-json-converter/dataset/plant_img/'\n",
        "for fname in sorted(os.listdir(path+'val_mask/'))[:10]:\n",
        "  #print(fname)\n",
        "  shutil.move(path+'val_mask/'+fname, path+'train_mask/'+fname)"
      ],
      "metadata": {
        "id": "feSv_Oav42JV"
      },
      "execution_count": 73,
      "outputs": []
    },
    {
      "cell_type": "code",
      "source": [
        "os.listdir((path+'train_mask/'))[:15] #2012에서 10개 추가"
      ],
      "metadata": {
        "id": "T5gI_cpQOc-Y",
        "outputId": "2d675bf7-969d-4b0b-ddcc-13f7605215ab",
        "colab": {
          "base_uri": "https://localhost:8080/"
        }
      },
      "execution_count": 75,
      "outputs": [
        {
          "output_type": "execute_result",
          "data": {
            "text/plain": [
              "['ara2012_tray01_fg.png',\n",
              " 'ara2012_tray02_fg.png',\n",
              " 'ara2012_tray03_fg.png',\n",
              " 'ara2012_tray04_fg.png',\n",
              " 'ara2012_tray05_fg.png',\n",
              " 'ara2012_tray06_fg.png',\n",
              " 'ara2012_tray07_fg.png',\n",
              " 'ara2012_tray08_fg.png',\n",
              " 'ara2012_tray09_fg.png',\n",
              " 'ara2012_tray10_fg.png',\n",
              " 'ara2013_tray01_fg.png',\n",
              " 'ara2013_tray02_fg.png',\n",
              " 'ara2013_tray03_fg.png',\n",
              " 'ara2013_tray04_fg.png',\n",
              " 'ara2013_tray05_fg.png']"
            ]
          },
          "metadata": {},
          "execution_count": 75
        }
      ]
    },
    {
      "cell_type": "code",
      "source": [
        "cd /gdrive/MyDrive/AI/maskrcnn/image-to-coco-json-converter/dataset/plant_img"
      ],
      "metadata": {
        "colab": {
          "base_uri": "https://localhost:8080/"
        },
        "id": "cYI26Z6xed79",
        "outputId": "fee02416-fe64-4907-b190-d4625dd562a8"
      },
      "execution_count": 77,
      "outputs": [
        {
          "output_type": "stream",
          "name": "stdout",
          "text": [
            "/gdrive/MyDrive/AI/maskrcnn/image-to-coco-json-converter/dataset/plant_img\n"
          ]
        }
      ]
    },
    {
      "cell_type": "code",
      "source": [
        "# label 이름으로 저장되면 나중에 사진 이름과 매치되지 않아서 작동 안 됨\n",
        "# json에 기록될 파일 이름이 실제 파일과 같아지도록 수정\n",
        "\n",
        "import os\n",
        "\n",
        "for path in ['./train_mask', './val_mask']:\n",
        "  for fname in os.listdir(path):\n",
        "    half = fname.find(\"f\")\n",
        "    old = path+\"/\"+fname\n",
        "    new = path+\"/\"+fname[:half]+\"rgb.png\"\n",
        "    #print(new)\n",
        "    os.rename(old, new)"
      ],
      "metadata": {
        "id": "JFlEFb4lZwDV"
      },
      "execution_count": 80,
      "outputs": []
    },
    {
      "cell_type": "markdown",
      "source": [
        "### 변환 코드"
      ],
      "metadata": {
        "id": "DriupVUUgJ4y"
      }
    },
    {
      "cell_type": "code",
      "source": [
        "cd ../../"
      ],
      "metadata": {
        "id": "KYaBc_5e31Ey",
        "outputId": "35060079-c8c3-4048-84d1-0fb664401fe4",
        "colab": {
          "base_uri": "https://localhost:8080/"
        }
      },
      "execution_count": 81,
      "outputs": [
        {
          "output_type": "stream",
          "name": "stdout",
          "text": [
            "/gdrive/MyDrive/AI/maskrcnn/image-to-coco-json-converter\n"
          ]
        }
      ]
    },
    {
      "cell_type": "code",
      "source": [
        "import glob\n",
        "\n",
        "from src.create_annotations import *\n",
        "def get_json(mask_image, width, height):\n",
        "    # Initialize a dictionary of sub-masks indexed by RGB colors\n",
        "    sub_masks = {}\n",
        "    cnt = 1\n",
        "    for x in range(width):\n",
        "        for y in range(height):\n",
        "            # Get the RGB values of the pixel\n",
        "            pixel = mask_image.getpixel((x,y))[:3]\n",
        "        \n",
        "            if pixel != (0, 0, 0): # 배경은 제외\n",
        "              # Check to see if we have created a sub-mask...\n",
        "              pixel_str = str(pixel)\n",
        "              sub_mask = sub_masks.get(pixel_str)\n",
        "              if sub_mask is None:\n",
        "                # Create a sub-mask (one bit per pixel) and add to the dictionary\n",
        "                  # Note: we add 1 pixel of padding in each direction\n",
        "                  # because the contours module doesn\"t handle cases\n",
        "                  # where pixels bleed to the edge of the image\n",
        "                  sub_masks[pixel_str] = cnt\n",
        "                  cnt+=1\n",
        "\n",
        "              # Set the pixel value to 1 (default is 0), accounting for padding\n",
        "              #sub_masks[pixel_str].putpixel((x+1, y+1), 1)\n",
        "\n",
        "    return sub_masks"
      ],
      "metadata": {
        "id": "HTo3AEO8g3Nf"
      },
      "execution_count": 82,
      "outputs": []
    },
    {
      "cell_type": "code",
      "source": [
        "def create_sub_masks(mask_image, width, height):\n",
        "    # Initialize a dictionary of sub-masks indexed by RGB colors\n",
        "    sub_masks = {}\n",
        "    for x in range(width):\n",
        "        for y in range(height):\n",
        "            # Get the RGB values of the pixel\n",
        "            pixel = mask_image.getpixel((x,y))[:3]\n",
        "\n",
        "            if pixel != (0, 0, 0):\n",
        "              # Check to see if we have created a sub-mask...\n",
        "              pixel_str = str(pixel)\n",
        "              sub_mask = sub_masks.get(pixel_str)\n",
        "              if sub_mask is None:\n",
        "                # Create a sub-mask (one bit per pixel) and add to the dictionary\n",
        "                  # Note: we add 1 pixel of padding in each direction\n",
        "                  # because the contours module doesn\"t handle cases\n",
        "                  # where pixels bleed to the edge of the image\n",
        "                  sub_masks[pixel_str] = Image.new(\"1\", (width+2, height+2))\n",
        "\n",
        "              # Set the pixel value to 1 (default is 0), accounting for padding\n",
        "              sub_masks[pixel_str].putpixel((x+1, y+1), 1)\n",
        "\n",
        "    return sub_masks\n"
      ],
      "metadata": {
        "id": "AM5vnxROiQQf"
      },
      "execution_count": 83,
      "outputs": []
    },
    {
      "cell_type": "code",
      "execution_count": null,
      "metadata": {
        "id": "RqleO9adgPoW"
      },
      "outputs": [],
      "source": [
        "\n",
        "\n",
        "# # Label ids of the dataset\n",
        "# category_ids = {\n",
        "#     \"outlier\": 0,\n",
        "#     \"window\": 1,\n",
        "#     \"wall\": 2,\n",
        "#     \"balcony\": 3,\n",
        "#     \"door\": 4,\n",
        "#     \"roof\": 5,\n",
        "#     \"sky\": 6,\n",
        "#     \"shop\": 7,\n",
        "#     \"chimney\": 8\n",
        "# }\n",
        "\n",
        "# # Define which colors match which categories in the images\n",
        "# category_colors = {\n",
        "#     \"(0, 0, 0)\": 0, # Outlier\n",
        "#     \"(255, 0, 0)\": 1, # Window\n",
        "#     \"(255, 255, 0)\": 2, # Wall\n",
        "#     \"(128, 0, 255)\": 3, # Balcony\n",
        "#     \"(255, 128, 0)\": 4, # Door\n",
        "#     \"(0, 0, 255)\": 5, # Roof\n",
        "#     \"(128, 255, 255)\": 6, # Sky\n",
        "#     \"(0, 255, 0)\": 7, # Shop\n",
        "#     \"(128, 128, 128)\": 8 # Chimney\n",
        "# }\n",
        "\n",
        "# # Define the ids that are a multiplolygon. In our case: wall, roof and sky\n",
        "# multipolygon_ids = [2, 5, 6]\n",
        "\n"
      ]
    },
    {
      "cell_type": "code",
      "source": [
        "import gc\n",
        "# Get \"images\" and \"annotations\" info \n",
        "def images_annotations_info(maskpath):\n",
        "    # This id will be automatically increased as we go\n",
        "    annotation_id = 0\n",
        "    image_id = 0\n",
        "    annotations = []\n",
        "    images = []\n",
        "    \n",
        "    for mask_image in glob.glob(maskpath + \"*.png\"):\n",
        "        # The mask image is *.png but the original image is *.jpg.\n",
        "        # We make a reference to the original file in the COCO JSON file\n",
        "        original_file_name = os.path.basename(mask_image).split(\".\")[0] + \".png\"\n",
        "\n",
        "        # Open the image and (to be sure) we convert it to RGB\n",
        "        mask_image_open = Image.open(mask_image).convert(\"RGB\")\n",
        "        w, h = mask_image_open.size\n",
        "        \n",
        "        # \"images\" info \n",
        "        image = create_image_annotation(original_file_name, w, h, image_id)\n",
        "        images.append(image)\n",
        "        del image\n",
        "\n",
        "        ###########category_colors = get_json(mask_image_open, w, h)\n",
        "        # print(category_colors)\n",
        "\n",
        "        sub_masks = create_sub_masks(mask_image_open, w, h)\n",
        "\n",
        "        del mask_image_open\n",
        "        gc.collect()\n",
        "\n",
        "        for color, sub_mask in sub_masks.items():\n",
        "            # print(sub_masks,category_colors.keys(), color)\n",
        "          \n",
        "            ###########category_id = category_colors[color]\n",
        "\n",
        "            # \"annotations\" info\n",
        "            polygons, segmentations = create_sub_mask_annotation(sub_mask)\n",
        "\n",
        "            # # Check if we have classes that are a multipolygon\n",
        "            # if category_id in multipolygon_ids:\n",
        "            #     # Combine the polygons to calculate the bounding box and area\n",
        "            #     multi_poly = MultiPolygon(polygons)\n",
        "                                \n",
        "            #     annotation = create_annotation_format(multi_poly, segmentations, image_id, category_id, annotation_id)\n",
        "\n",
        "            #     annotations.append(annotation)\n",
        "            #     annotation_id += 1\n",
        "            # else:\n",
        "            \n",
        "            for i in range(len(polygons)):\n",
        "                    # Cleaner to recalculate this variable\n",
        "                    segmentation = [np.array(polygons[i].exterior.coords).ravel().tolist()]\n",
        "                    \n",
        "                    annotation = create_annotation_format(polygons[i], segmentation, image_id, i, annotation_id)\n",
        "                    \n",
        "                    annotations.append(annotation)\n",
        "                    annotation_id += 1\n",
        "        image_id += 1\n",
        "    return images, annotations, annotation_id\n"
      ],
      "metadata": {
        "id": "sEDxVsjQiY-p"
      },
      "execution_count": 84,
      "outputs": []
    },
    {
      "cell_type": "code",
      "source": [
        "get_coco_json_format()"
      ],
      "metadata": {
        "colab": {
          "base_uri": "https://localhost:8080/"
        },
        "id": "WlMUbci8Ui4Z",
        "outputId": "627baec3-5698-449a-d3fb-4e360782b239"
      },
      "execution_count": null,
      "outputs": [
        {
          "output_type": "execute_result",
          "data": {
            "text/plain": [
              "{'annotations': [{}],\n",
              " 'categories': [{}],\n",
              " 'images': [{}],\n",
              " 'info': {},\n",
              " 'licenses': []}"
            ]
          },
          "metadata": {},
          "execution_count": 31
        }
      ]
    },
    {
      "cell_type": "code",
      "source": [
        "cd /gdrive/MyDrive/AI/maskrcnn/image-to-coco-json-converter/"
      ],
      "metadata": {
        "colab": {
          "base_uri": "https://localhost:8080/"
        },
        "id": "N1mjFk7diCiM",
        "outputId": "46f9b792-075f-4e1a-ce61-c80d8f857ce1"
      },
      "execution_count": null,
      "outputs": [
        {
          "output_type": "stream",
          "name": "stdout",
          "text": [
            "/gdrive/MyDrive/AI/maskrcnn/image-to-coco-json-converter\n"
          ]
        }
      ]
    },
    {
      "cell_type": "code",
      "source": [
        "pwd"
      ],
      "metadata": {
        "colab": {
          "base_uri": "https://localhost:8080/",
          "height": 35
        },
        "id": "Vk6rMcCBh_my",
        "outputId": "314131fc-55ea-4a6a-c98f-84c79776cc21"
      },
      "execution_count": null,
      "outputs": [
        {
          "output_type": "execute_result",
          "data": {
            "application/vnd.google.colaboratory.intrinsic+json": {
              "type": "string"
            },
            "text/plain": [
              "'/gdrive/MyDrive/AI/maskrcnn/image-to-coco-json-converter'"
            ]
          },
          "metadata": {},
          "execution_count": 91
        }
      ]
    },
    {
      "cell_type": "code",
      "source": [
        "if __name__ == \"__main__\":\n",
        "    # Get the standard COCO JSON format\n",
        "    coco_format = get_coco_json_format()\n",
        "    \n",
        "    for keyword in [\"train\", \"val\"]:\n",
        "        mask_path = \"dataset/plant_img/{}_mask/\".format(keyword)\n",
        "        \n",
        "        # Create category section\n",
        "        # coco_format[\"categories\"] = create_category_annotation(category_ids)\n",
        "    \n",
        "        # Create images and annotations sections\n",
        "        coco_format[\"images\"], coco_format[\"annotations\"], annotation_cnt = images_annotations_info(mask_path)\n",
        "        with open(\"output/{}.json\".format(keyword),\"w\") as outfile:\n",
        "            json.dump(coco_format, outfile)\n",
        "        \n",
        "        print(\"Created %d annotations for images in folder: %s\" % (annotation_cnt, mask_path))"
      ],
      "metadata": {
        "colab": {
          "base_uri": "https://localhost:8080/"
        },
        "id": "U-_ljtygiY8L",
        "outputId": "34845385-4f6d-49b0-9470-03f16d3bc1a0"
      },
      "execution_count": 85,
      "outputs": [
        {
          "output_type": "stream",
          "name": "stdout",
          "text": [
            "Created 2597 annotations for images in folder: dataset/plant_img/train_mask/\n",
            "Created 648 annotations for images in folder: dataset/plant_img/val_mask/\n"
          ]
        }
      ]
    },
    {
      "cell_type": "markdown",
      "source": [
        "# COCO to VGG\n",
        "https://annotate.officialstatistics.org/\n",
        "\n",
        "coco 로 붙러와서 json으로 저장\n",
        "\n",
        "via_region_data.json라는 이름으로 \n",
        "\n",
        "google drive의 dataset/leaf_img/train_mask/ 와 dataset/leaf_img/val_mask/\n",
        "\n",
        "각각에 올려두기. \n",
        "\n"
      ],
      "metadata": {
        "id": "3mhDeoN1jtdq"
      }
    },
    {
      "cell_type": "markdown",
      "source": [
        "### VGG annotation 손보기"
      ],
      "metadata": {
        "id": "qU3A2LWwjvrj"
      }
    },
    {
      "cell_type": "code",
      "source": [
        "# import json\n",
        "# import pprint\n",
        "\n",
        "\n",
        "# with open('/content/via_region_data (3).json', 'r') as f:\n",
        "\n",
        "#     json_data = json.load(f)\n",
        "\n",
        "# # print(json.dumps(json_data, indent=\"\\t\") )\n",
        "\n",
        "# for k,v in json_data.items():\n",
        "#   tmp = {}\n",
        "#   for i in range(len(v[\"regions\"])):\n",
        "#     #print(v[\"regions\"])\n",
        "#     v[\"regions\"][i][\"region_attributes\"] = {}\n",
        "#     tmp[i] = v[\"regions\"][i]\n",
        "#   #pprint.pprint(tmp)\n",
        "#   v[\"regions\"] = tmp\n",
        "\n",
        "# with open('/content/via_region_data.json', 'w', encoding='utf-8') as make_file:\n",
        "\n",
        "#     json.dump(json_data, make_file, indent=\"\\t\")"
      ],
      "metadata": {
        "id": "VtdFZXweJEFD"
      },
      "execution_count": null,
      "outputs": []
    },
    {
      "cell_type": "markdown",
      "source": [
        "# 마무리된 dataset 옮기기"
      ],
      "metadata": {
        "id": "PEfkozManhNv"
      }
    },
    {
      "cell_type": "code",
      "source": [
        "!rm -d -r /gdrive/MyDrive/AI/maskrcnn/Mask_RCNN/plant_dataset/train\n",
        "!rm -d -r /gdrive/MyDrive/AI/maskrcnn/Mask_RCNN/plant_dataset/val\n",
        "!mkdir /gdrive/MyDrive/AI/maskrcnn/Mask_RCNN/plant_dataset/train\n",
        "!mkdir /gdrive/MyDrive/AI/maskrcnn/Mask_RCNN/plant_dataset/val"
      ],
      "metadata": {
        "id": "VYr6b1L2nvAU",
        "outputId": "e0446c9a-d103-4241-a690-8645d7f25d7f",
        "colab": {
          "base_uri": "https://localhost:8080/"
        }
      },
      "execution_count": 86,
      "outputs": [
        {
          "output_type": "stream",
          "name": "stdout",
          "text": [
            "rm: cannot remove '/gdrive/MyDrive/AI/maskrcnn/Mask_RCNN/plant_dataset/train': No such file or directory\n",
            "rm: cannot remove '/gdrive/MyDrive/AI/maskrcnn/Mask_RCNN/plant_dataset/val': No such file or directory\n"
          ]
        }
      ]
    },
    {
      "cell_type": "code",
      "source": [
        "pwd # 현재위치확인"
      ],
      "metadata": {
        "colab": {
          "base_uri": "https://localhost:8080/",
          "height": 36
        },
        "id": "0wXyUAaXVGMR",
        "outputId": "623c86b5-410c-4fa2-be49-54673f7420d2"
      },
      "execution_count": 88,
      "outputs": [
        {
          "output_type": "execute_result",
          "data": {
            "application/vnd.google.colaboratory.intrinsic+json": {
              "type": "string"
            },
            "text/plain": [
              "'/gdrive/MyDrive/AI/maskrcnn/plant_images'"
            ]
          },
          "metadata": {},
          "execution_count": 88
        }
      ]
    },
    {
      "cell_type": "code",
      "source": [
        "cd /gdrive/MyDrive/AI/maskrcnn/plant_images/"
      ],
      "metadata": {
        "colab": {
          "base_uri": "https://localhost:8080/"
        },
        "id": "e11UC-qUnm8w",
        "outputId": "a7f40197-1b13-4fa7-ea63-307c71fd056c"
      },
      "execution_count": 87,
      "outputs": [
        {
          "output_type": "stream",
          "name": "stdout",
          "text": [
            "/gdrive/MyDrive/AI/maskrcnn/plant_images\n"
          ]
        }
      ]
    },
    {
      "cell_type": "code",
      "source": [
        "# 원본 이미지 이동\n",
        "!cp Ara2013-Canon/*_rgb.png /gdrive/MyDrive/AI/maskrcnn/Mask_RCNN/plant_dataset/train/"
      ],
      "metadata": {
        "id": "uGmvP93Hn3kO"
      },
      "execution_count": 90,
      "outputs": []
    },
    {
      "cell_type": "code",
      "source": [
        "import shutil\n",
        "#path ='/gdrive/MyDrive/AI/maskrcnn/image-to-coco-json-converter/dataset/plant_img/'\n",
        "i = 0\n",
        "for fname in sorted(os.listdir(('./Ara2012/'))):\n",
        "  #print(fname)\n",
        "  if \"rgb\" in fname:\n",
        "    i+=1\n",
        "    if i<=10:\n",
        "      #print(fname)\n",
        "      shutil.copyfile('./Ara2012/'+fname, '/gdrive/MyDrive/AI/maskrcnn/Mask_RCNN/plant_dataset/train/'+fname)\n",
        "    else:\n",
        "      shutil.copyfile('./Ara2012/'+fname, '/gdrive/MyDrive/AI/maskrcnn/Mask_RCNN/plant_dataset/val/'+fname)"
      ],
      "metadata": {
        "id": "UtL3nPl1TofI"
      },
      "execution_count": 95,
      "outputs": []
    },
    {
      "cell_type": "code",
      "source": [
        "os.listdir('/gdrive/MyDrive/AI/maskrcnn/Mask_RCNN/plant_dataset/train/')"
      ],
      "metadata": {
        "id": "q5jbYac1wm3d",
        "outputId": "1fc5c2b1-8d2a-47a5-e54a-b699df02b591",
        "colab": {
          "base_uri": "https://localhost:8080/"
        }
      },
      "execution_count": 96,
      "outputs": [
        {
          "output_type": "execute_result",
          "data": {
            "text/plain": [
              "['ara2013_tray01_rgb.png',\n",
              " 'ara2013_tray02_rgb.png',\n",
              " 'ara2013_tray03_rgb.png',\n",
              " 'ara2013_tray04_rgb.png',\n",
              " 'ara2013_tray05_rgb.png',\n",
              " 'ara2013_tray06_rgb.png',\n",
              " 'ara2013_tray07_rgb.png',\n",
              " 'ara2013_tray08_rgb.png',\n",
              " 'ara2013_tray09_rgb.png',\n",
              " 'ara2013_tray10_rgb.png',\n",
              " 'ara2013_tray11_rgb.png',\n",
              " 'ara2013_tray12_rgb.png',\n",
              " 'ara2013_tray13_rgb.png',\n",
              " 'ara2013_tray14_rgb.png',\n",
              " 'ara2013_tray15_rgb.png',\n",
              " 'ara2013_tray16_rgb.png',\n",
              " 'ara2013_tray17_rgb.png',\n",
              " 'ara2013_tray18_rgb.png',\n",
              " 'ara2013_tray19_rgb.png',\n",
              " 'ara2013_tray20_rgb.png',\n",
              " 'ara2013_tray21_rgb.png',\n",
              " 'ara2013_tray22_rgb.png',\n",
              " 'ara2013_tray23_rgb.png',\n",
              " 'ara2013_tray24_rgb.png',\n",
              " 'ara2013_tray25_rgb.png',\n",
              " 'ara2013_tray26_rgb.png',\n",
              " 'ara2013_tray27_rgb.png',\n",
              " 'ara2012_tray01_rgb.png',\n",
              " 'ara2012_tray02_rgb.png',\n",
              " 'ara2012_tray03_rgb.png',\n",
              " 'ara2012_tray04_rgb.png',\n",
              " 'ara2012_tray05_rgb.png',\n",
              " 'ara2012_tray06_rgb.png',\n",
              " 'ara2012_tray07_rgb.png',\n",
              " 'ara2012_tray08_rgb.png',\n",
              " 'ara2012_tray09_rgb.png',\n",
              " 'ara2012_tray10_rgb.png']"
            ]
          },
          "metadata": {},
          "execution_count": 96
        }
      ]
    },
    {
      "cell_type": "code",
      "source": [
        "os.listdir('/gdrive/MyDrive/AI/maskrcnn/Mask_RCNN/plant_dataset/val/')"
      ],
      "metadata": {
        "id": "5Fo8wMhmxTK8",
        "outputId": "8749a6ee-cce2-4dcc-a0c8-f82ce05d0096",
        "colab": {
          "base_uri": "https://localhost:8080/"
        }
      },
      "execution_count": 97,
      "outputs": [
        {
          "output_type": "execute_result",
          "data": {
            "text/plain": [
              "['ara2012_tray11_rgb.png',\n",
              " 'ara2012_tray12_rgb.png',\n",
              " 'ara2012_tray13_rgb.png',\n",
              " 'ara2012_tray14_rgb.png',\n",
              " 'ara2012_tray15_rgb.png',\n",
              " 'ara2012_tray16_rgb.png']"
            ]
          },
          "metadata": {},
          "execution_count": 97
        }
      ]
    },
    {
      "cell_type": "code",
      "source": [
        ""
      ],
      "metadata": {
        "id": "GVOpkEOjRxEQ"
      },
      "execution_count": null,
      "outputs": []
    }
  ],
  "metadata": {
    "kernelspec": {
      "display_name": "Python 3",
      "language": "python",
      "name": "python3"
    },
    "language_info": {
      "codemirror_mode": {
        "name": "ipython",
        "version": 3
      },
      "file_extension": ".py",
      "mimetype": "text/x-python",
      "name": "python",
      "nbconvert_exporter": "python",
      "pygments_lexer": "ipython3",
      "version": "3.9.6"
    },
    "colab": {
      "name": "create-custom-coco-dataset.ipynb",
      "provenance": [],
      "collapsed_sections": [],
      "include_colab_link": true
    }
  },
  "nbformat": 4,
  "nbformat_minor": 0
}