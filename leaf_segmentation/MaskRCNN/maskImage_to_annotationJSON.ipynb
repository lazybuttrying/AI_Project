{
  "cells": [
    {
      "cell_type": "markdown",
      "metadata": {
        "id": "view-in-github",
        "colab_type": "text"
      },
      "source": [
        "<a href=\"https://colab.research.google.com/github/lazybuttrying/AI_Project/blob/main/leaf_segmentation/MaskRCNN/maskImage_to_annotationJSON.ipynb\" target=\"_parent\"><img src=\"https://colab.research.google.com/assets/colab-badge.svg\" alt=\"Open In Colab\"/></a>"
      ]
    },
    {
      "cell_type": "code",
      "source": [
        "from google.colab import drive\n",
        "drive.mount('/gdrive')"
      ],
      "metadata": {
        "id": "44uzQOh3gzzG",
        "outputId": "d00bafa4-f275-43b5-8fc8-00fcf265ec34",
        "colab": {
          "base_uri": "https://localhost:8080/"
        }
      },
      "execution_count": 1,
      "outputs": [
        {
          "output_type": "stream",
          "name": "stdout",
          "text": [
            "Mounted at /gdrive\n"
          ]
        }
      ]
    },
    {
      "cell_type": "markdown",
      "source": [
        "### 모든 사진의 이름이 겹치지 않도록 조정"
      ],
      "metadata": {
        "id": "0qnETgTGf64R"
      }
    },
    {
      "cell_type": "code",
      "source": [
        "cd /gdrive/MyDrive/AI/maskrcnn/training/"
      ],
      "metadata": {
        "colab": {
          "base_uri": "https://localhost:8080/"
        },
        "id": "RtSQDXHShZB8",
        "outputId": "53689c4d-855e-4229-96a7-e38fe75bd7e0"
      },
      "execution_count": 5,
      "outputs": [
        {
          "output_type": "stream",
          "name": "stdout",
          "text": [
            "/gdrive/MyDrive/AI/maskrcnn\n"
          ]
        }
      ]
    },
    {
      "cell_type": "code",
      "source": [
        "import os\n",
        "\n",
        "len(os.listdir(\"./A1\"))//4, len(os.listdir(\"./A2\"))//4, len(os.listdir(\"./A3\"))//4, len(os.listdir(\"./A4\"))//4,"
      ],
      "metadata": {
        "colab": {
          "base_uri": "https://localhost:8080/"
        },
        "id": "GtSwtakhKa_P",
        "outputId": "61ca4d6f-d4ac-44a0-fa18-b1a6c2a8c740"
      },
      "execution_count": 76,
      "outputs": [
        {
          "output_type": "execute_result",
          "data": {
            "text/plain": [
              "(128, 31, 27, 624)"
            ]
          },
          "metadata": {},
          "execution_count": 76
        }
      ]
    },
    {
      "cell_type": "code",
      "source": [
        "import os\n",
        "\n",
        "for folder in ['A1', 'A2', 'A3', 'A4']:\n",
        "  for fname in os.listdir(\"./\"+folder):\n",
        "    half = fname.find(\"_\")\n",
        "    old = (\"./\"+folder+\"/\"+fname)\n",
        "    new = (\"./\"+folder+\"/\"+fname[:half]+ \"~\" + folder + fname[half:])\n",
        "    os.rename(old, new)"
      ],
      "metadata": {
        "id": "ea4LliBSaI8E"
      },
      "execution_count": 75,
      "outputs": []
    },
    {
      "cell_type": "markdown",
      "source": [
        "# Image to COCO annotation"
      ],
      "metadata": {
        "id": "wn5Q28hFJUeG"
      }
    },
    {
      "cell_type": "code",
      "source": [
        "cd /gdrive/MyDrive/AI/maskrcnn/"
      ],
      "metadata": {
        "id": "NvUVJwoOe4f0"
      },
      "execution_count": null,
      "outputs": []
    },
    {
      "cell_type": "code",
      "source": [
        "!git clone https://github.com/chrise96/image-to-coco-json-converter.git"
      ],
      "metadata": {
        "colab": {
          "base_uri": "https://localhost:8080/"
        },
        "id": "ShOLiigkhfRb",
        "outputId": "2cc922cb-a92a-4706-9ed4-00e0aaa7f6e3"
      },
      "execution_count": null,
      "outputs": [
        {
          "output_type": "stream",
          "name": "stdout",
          "text": [
            "Cloning into 'image-to-coco-json-converter'...\n",
            "remote: Enumerating objects: 58, done.\u001b[K\n",
            "remote: Counting objects: 100% (58/58), done.\u001b[K\n",
            "remote: Compressing objects: 100% (42/42), done.\u001b[K\n",
            "remote: Total 58 (delta 12), reused 51 (delta 10), pack-reused 0\u001b[K\n",
            "Unpacking objects: 100% (58/58), done.\n"
          ]
        }
      ]
    },
    {
      "cell_type": "code",
      "source": [
        "cd image-to-coco-json-converter"
      ],
      "metadata": {
        "colab": {
          "base_uri": "https://localhost:8080/"
        },
        "id": "fFs8Q58xiJNO",
        "outputId": "a1ce8f49-7fdb-4800-9caf-f82afac92010"
      },
      "execution_count": 13,
      "outputs": [
        {
          "output_type": "stream",
          "name": "stdout",
          "text": [
            "/gdrive/MyDrive/AI/maskrcnn/image-to-coco-json-converter\n"
          ]
        }
      ]
    },
    {
      "cell_type": "code",
      "source": [
        "!pip install -r requirements.txt"
      ],
      "metadata": {
        "colab": {
          "base_uri": "https://localhost:8080/"
        },
        "id": "5XvkfIDFiNoy",
        "outputId": "e75ca2d6-73fd-4ffe-9400-6b37dbb55877"
      },
      "execution_count": 14,
      "outputs": [
        {
          "output_type": "stream",
          "name": "stdout",
          "text": [
            "Requirement already satisfied: Pillow==7.2.0 in /usr/local/lib/python3.7/dist-packages (from -r requirements.txt (line 1)) (7.2.0)\n",
            "Requirement already satisfied: Shapely==1.7.1 in /usr/local/lib/python3.7/dist-packages (from -r requirements.txt (line 2)) (1.7.1)\n",
            "Requirement already satisfied: scikit-image==0.17.2 in /usr/local/lib/python3.7/dist-packages (from -r requirements.txt (line 3)) (0.17.2)\n",
            "Requirement already satisfied: numpy==1.18.5 in /usr/local/lib/python3.7/dist-packages (from -r requirements.txt (line 4)) (1.18.5)\n",
            "Requirement already satisfied: imageio>=2.3.0 in /usr/local/lib/python3.7/dist-packages (from scikit-image==0.17.2->-r requirements.txt (line 3)) (2.4.1)\n",
            "Requirement already satisfied: matplotlib!=3.0.0,>=2.0.0 in /usr/local/lib/python3.7/dist-packages (from scikit-image==0.17.2->-r requirements.txt (line 3)) (3.2.2)\n",
            "Requirement already satisfied: tifffile>=2019.7.26 in /usr/local/lib/python3.7/dist-packages (from scikit-image==0.17.2->-r requirements.txt (line 3)) (2021.11.2)\n",
            "Requirement already satisfied: scipy>=1.0.1 in /usr/local/lib/python3.7/dist-packages (from scikit-image==0.17.2->-r requirements.txt (line 3)) (1.4.1)\n",
            "Requirement already satisfied: networkx>=2.0 in /usr/local/lib/python3.7/dist-packages (from scikit-image==0.17.2->-r requirements.txt (line 3)) (2.6.3)\n",
            "Requirement already satisfied: PyWavelets>=1.1.1 in /usr/local/lib/python3.7/dist-packages (from scikit-image==0.17.2->-r requirements.txt (line 3)) (1.2.0)\n",
            "Requirement already satisfied: kiwisolver>=1.0.1 in /usr/local/lib/python3.7/dist-packages (from matplotlib!=3.0.0,>=2.0.0->scikit-image==0.17.2->-r requirements.txt (line 3)) (1.3.2)\n",
            "Requirement already satisfied: cycler>=0.10 in /usr/local/lib/python3.7/dist-packages (from matplotlib!=3.0.0,>=2.0.0->scikit-image==0.17.2->-r requirements.txt (line 3)) (0.11.0)\n",
            "Requirement already satisfied: python-dateutil>=2.1 in /usr/local/lib/python3.7/dist-packages (from matplotlib!=3.0.0,>=2.0.0->scikit-image==0.17.2->-r requirements.txt (line 3)) (2.8.2)\n",
            "Requirement already satisfied: pyparsing!=2.0.4,!=2.1.2,!=2.1.6,>=2.0.1 in /usr/local/lib/python3.7/dist-packages (from matplotlib!=3.0.0,>=2.0.0->scikit-image==0.17.2->-r requirements.txt (line 3)) (3.0.6)\n",
            "Requirement already satisfied: six>=1.5 in /usr/local/lib/python3.7/dist-packages (from python-dateutil>=2.1->matplotlib!=3.0.0,>=2.0.0->scikit-image==0.17.2->-r requirements.txt (line 3)) (1.15.0)\n"
          ]
        }
      ]
    },
    {
      "cell_type": "code",
      "source": [
        "cd dataset"
      ],
      "metadata": {
        "colab": {
          "base_uri": "https://localhost:8080/"
        },
        "id": "7FN1BVu5S5q-",
        "outputId": "9d3d7df9-6c16-4418-eb62-87caa4dc3eef"
      },
      "execution_count": 54,
      "outputs": [
        {
          "output_type": "stream",
          "name": "stdout",
          "text": [
            "/gdrive/MyDrive/AI/maskrcnn/image-to-coco-json-converter/dataset\n"
          ]
        }
      ]
    },
    {
      "cell_type": "markdown",
      "source": [
        "### label 이미지 마련하기"
      ],
      "metadata": {
        "id": "9edL0bFxgFFw"
      }
    },
    {
      "cell_type": "code",
      "source": [
        "!mkdir leaf_img\n",
        "!mkdir leaf_img/train_mask\n",
        "!mkdir leaf_img/val_mask"
      ],
      "metadata": {
        "id": "vOxPyGvFS9YX"
      },
      "execution_count": 55,
      "outputs": []
    },
    {
      "cell_type": "code",
      "source": [
        "cd /gdrive/MyDrive/AI/maskrcnn/training/"
      ],
      "metadata": {
        "id": "5w3y8hnafAYo"
      },
      "execution_count": null,
      "outputs": []
    },
    {
      "cell_type": "code",
      "source": [
        "# train 752, val 58\n",
        "\n",
        "!cp A1/*_label.png /gdrive/MyDrive/AI/maskrcnn/image-to-coco-json-converter/dataset/leaf_img/train_mask\n",
        "!cp A2/*_label.png /gdrive/MyDrive/AI/maskrcnn/image-to-coco-json-converter/dataset/leaf_img/val_mask\n",
        "!cp A3/*_label.png /gdrive/MyDrive/AI/maskrcnn/image-to-coco-json-converter/dataset/leaf_img/val_mask\n",
        "!cp A4/*_label.png /gdrive/MyDrive/AI/maskrcnn/image-to-coco-json-converter/dataset/leaf_img/train_mask"
      ],
      "metadata": {
        "id": "Bt-lMvneTdEo"
      },
      "execution_count": 77,
      "outputs": []
    },
    {
      "cell_type": "code",
      "source": [
        "cd /gdrive/MyDrive/AI/maskrcnn/image-to-coco-json-converter/dataset/leaf_img"
      ],
      "metadata": {
        "colab": {
          "base_uri": "https://localhost:8080/"
        },
        "id": "cYI26Z6xed79",
        "outputId": "6657fe86-9ec3-456d-d112-c26cbde76737"
      },
      "execution_count": 79,
      "outputs": [
        {
          "output_type": "stream",
          "name": "stdout",
          "text": [
            "/gdrive/MyDrive/AI/maskrcnn/image-to-coco-json-converter/dataset/leaf_img\n"
          ]
        }
      ]
    },
    {
      "cell_type": "code",
      "source": [
        "# label 이름으로 저장되면 나중에 사진 이름과 매치되지 않아서 작동 안 됨\n",
        "# json에 기록될 파일 이름이 실제 파일과 같아지도록 수정\n",
        "\n",
        "import os\n",
        "\n",
        "for path in ['./train_mask', './val_mask']:\n",
        "  for fname in os.listdir(path):\n",
        "    # print(fname[:9]+\"rgb.png\")\n",
        "    half = fname.find(\"_\")\n",
        "    old = path+\"/\"+fname\n",
        "    new = path+\"/\"+fname[:half]+\"_rgb.png\"\n",
        "    os.rename(old, new)"
      ],
      "metadata": {
        "id": "JFlEFb4lZwDV"
      },
      "execution_count": 82,
      "outputs": []
    },
    {
      "cell_type": "markdown",
      "source": [
        "### 변환 코드"
      ],
      "metadata": {
        "id": "DriupVUUgJ4y"
      }
    },
    {
      "cell_type": "code",
      "source": [
        "import glob\n",
        "\n",
        "from src.create_annotations import *\n",
        "def get_json(mask_image, width, height):\n",
        "    # Initialize a dictionary of sub-masks indexed by RGB colors\n",
        "    sub_masks = {}\n",
        "    cnt = 1\n",
        "    for x in range(width):\n",
        "        for y in range(height):\n",
        "            # Get the RGB values of the pixel\n",
        "            pixel = mask_image.getpixel((x,y))[:3]\n",
        "        \n",
        "            if pixel != (0, 0, 0): # 배경은 제외\n",
        "              # Check to see if we have created a sub-mask...\n",
        "              pixel_str = str(pixel)\n",
        "              sub_mask = sub_masks.get(pixel_str)\n",
        "              if sub_mask is None:\n",
        "                # Create a sub-mask (one bit per pixel) and add to the dictionary\n",
        "                  # Note: we add 1 pixel of padding in each direction\n",
        "                  # because the contours module doesn\"t handle cases\n",
        "                  # where pixels bleed to the edge of the image\n",
        "                  sub_masks[pixel_str] = cnt\n",
        "                  cnt+=1\n",
        "\n",
        "              # Set the pixel value to 1 (default is 0), accounting for padding\n",
        "              #sub_masks[pixel_str].putpixel((x+1, y+1), 1)\n",
        "\n",
        "    return sub_masks"
      ],
      "metadata": {
        "id": "HTo3AEO8g3Nf"
      },
      "execution_count": 83,
      "outputs": []
    },
    {
      "cell_type": "code",
      "source": [
        "def create_sub_masks(mask_image, width, height):\n",
        "    # Initialize a dictionary of sub-masks indexed by RGB colors\n",
        "    sub_masks = {}\n",
        "    for x in range(width):\n",
        "        for y in range(height):\n",
        "            # Get the RGB values of the pixel\n",
        "            pixel = mask_image.getpixel((x,y))[:3]\n",
        "\n",
        "            if pixel != (0, 0, 0):\n",
        "              # Check to see if we have created a sub-mask...\n",
        "              pixel_str = str(pixel)\n",
        "              sub_mask = sub_masks.get(pixel_str)\n",
        "              if sub_mask is None:\n",
        "                # Create a sub-mask (one bit per pixel) and add to the dictionary\n",
        "                  # Note: we add 1 pixel of padding in each direction\n",
        "                  # because the contours module doesn\"t handle cases\n",
        "                  # where pixels bleed to the edge of the image\n",
        "                  sub_masks[pixel_str] = Image.new(\"1\", (width+2, height+2))\n",
        "\n",
        "              # Set the pixel value to 1 (default is 0), accounting for padding\n",
        "              sub_masks[pixel_str].putpixel((x+1, y+1), 1)\n",
        "\n",
        "    return sub_masks\n"
      ],
      "metadata": {
        "id": "AM5vnxROiQQf"
      },
      "execution_count": 84,
      "outputs": []
    },
    {
      "cell_type": "code",
      "execution_count": 85,
      "metadata": {
        "id": "RqleO9adgPoW"
      },
      "outputs": [],
      "source": [
        "\n",
        "\n",
        "# # Label ids of the dataset\n",
        "# category_ids = {\n",
        "#     \"outlier\": 0,\n",
        "#     \"window\": 1,\n",
        "#     \"wall\": 2,\n",
        "#     \"balcony\": 3,\n",
        "#     \"door\": 4,\n",
        "#     \"roof\": 5,\n",
        "#     \"sky\": 6,\n",
        "#     \"shop\": 7,\n",
        "#     \"chimney\": 8\n",
        "# }\n",
        "\n",
        "# # Define which colors match which categories in the images\n",
        "# category_colors = {\n",
        "#     \"(0, 0, 0)\": 0, # Outlier\n",
        "#     \"(255, 0, 0)\": 1, # Window\n",
        "#     \"(255, 255, 0)\": 2, # Wall\n",
        "#     \"(128, 0, 255)\": 3, # Balcony\n",
        "#     \"(255, 128, 0)\": 4, # Door\n",
        "#     \"(0, 0, 255)\": 5, # Roof\n",
        "#     \"(128, 255, 255)\": 6, # Sky\n",
        "#     \"(0, 255, 0)\": 7, # Shop\n",
        "#     \"(128, 128, 128)\": 8 # Chimney\n",
        "# }\n",
        "\n",
        "# # Define the ids that are a multiplolygon. In our case: wall, roof and sky\n",
        "# multipolygon_ids = [2, 5, 6]\n",
        "\n"
      ]
    },
    {
      "cell_type": "code",
      "source": [
        "import gc\n",
        "# Get \"images\" and \"annotations\" info \n",
        "def images_annotations_info(maskpath):\n",
        "    # This id will be automatically increased as we go\n",
        "    annotation_id = 0\n",
        "    image_id = 0\n",
        "    annotations = []\n",
        "    images = []\n",
        "    \n",
        "    for mask_image in glob.glob(maskpath + \"*.png\"):\n",
        "        # The mask image is *.png but the original image is *.jpg.\n",
        "        # We make a reference to the original file in the COCO JSON file\n",
        "        original_file_name = os.path.basename(mask_image).split(\".\")[0] + \".png\"\n",
        "\n",
        "        # Open the image and (to be sure) we convert it to RGB\n",
        "        mask_image_open = Image.open(mask_image).convert(\"RGB\")\n",
        "        w, h = mask_image_open.size\n",
        "        \n",
        "        # \"images\" info \n",
        "        image = create_image_annotation(original_file_name, w, h, image_id)\n",
        "        images.append(image)\n",
        "        del image\n",
        "\n",
        "        ###########category_colors = get_json(mask_image_open, w, h)\n",
        "        # print(category_colors)\n",
        "\n",
        "        sub_masks = create_sub_masks(mask_image_open, w, h)\n",
        "\n",
        "        del mask_image_open\n",
        "        gc.collect()\n",
        "\n",
        "        for color, sub_mask in sub_masks.items():\n",
        "            # print(sub_masks,category_colors.keys(), color)\n",
        "          \n",
        "            ###########category_id = category_colors[color]\n",
        "\n",
        "            # \"annotations\" info\n",
        "            polygons, segmentations = create_sub_mask_annotation(sub_mask)\n",
        "\n",
        "            # # Check if we have classes that are a multipolygon\n",
        "            # if category_id in multipolygon_ids:\n",
        "            #     # Combine the polygons to calculate the bounding box and area\n",
        "            #     multi_poly = MultiPolygon(polygons)\n",
        "                                \n",
        "            #     annotation = create_annotation_format(multi_poly, segmentations, image_id, category_id, annotation_id)\n",
        "\n",
        "            #     annotations.append(annotation)\n",
        "            #     annotation_id += 1\n",
        "            # else:\n",
        "            \n",
        "            for i in range(len(polygons)):\n",
        "                    # Cleaner to recalculate this variable\n",
        "                    segmentation = [np.array(polygons[i].exterior.coords).ravel().tolist()]\n",
        "                    \n",
        "                    annotation = create_annotation_format(polygons[i], segmentation, image_id, i, annotation_id)\n",
        "                    \n",
        "                    annotations.append(annotation)\n",
        "                    annotation_id += 1\n",
        "        image_id += 1\n",
        "    return images, annotations, annotation_id\n"
      ],
      "metadata": {
        "id": "sEDxVsjQiY-p"
      },
      "execution_count": 87,
      "outputs": []
    },
    {
      "cell_type": "code",
      "source": [
        "get_coco_json_format()"
      ],
      "metadata": {
        "colab": {
          "base_uri": "https://localhost:8080/"
        },
        "id": "WlMUbci8Ui4Z",
        "outputId": "627baec3-5698-449a-d3fb-4e360782b239"
      },
      "execution_count": 31,
      "outputs": [
        {
          "output_type": "execute_result",
          "data": {
            "text/plain": [
              "{'annotations': [{}],\n",
              " 'categories': [{}],\n",
              " 'images': [{}],\n",
              " 'info': {},\n",
              " 'licenses': []}"
            ]
          },
          "metadata": {},
          "execution_count": 31
        }
      ]
    },
    {
      "cell_type": "code",
      "source": [
        "cd /gdrive/MyDrive/AI/maskrcnn/image-to-coco-json-converter/"
      ],
      "metadata": {
        "colab": {
          "base_uri": "https://localhost:8080/"
        },
        "id": "N1mjFk7diCiM",
        "outputId": "46f9b792-075f-4e1a-ce61-c80d8f857ce1"
      },
      "execution_count": 90,
      "outputs": [
        {
          "output_type": "stream",
          "name": "stdout",
          "text": [
            "/gdrive/MyDrive/AI/maskrcnn/image-to-coco-json-converter\n"
          ]
        }
      ]
    },
    {
      "cell_type": "code",
      "source": [
        "pwd"
      ],
      "metadata": {
        "colab": {
          "base_uri": "https://localhost:8080/",
          "height": 35
        },
        "id": "Vk6rMcCBh_my",
        "outputId": "314131fc-55ea-4a6a-c98f-84c79776cc21"
      },
      "execution_count": 91,
      "outputs": [
        {
          "output_type": "execute_result",
          "data": {
            "application/vnd.google.colaboratory.intrinsic+json": {
              "type": "string"
            },
            "text/plain": [
              "'/gdrive/MyDrive/AI/maskrcnn/image-to-coco-json-converter'"
            ]
          },
          "metadata": {},
          "execution_count": 91
        }
      ]
    },
    {
      "cell_type": "code",
      "source": [
        "if __name__ == \"__main__\":\n",
        "    # Get the standard COCO JSON format\n",
        "    coco_format = get_coco_json_format()\n",
        "    \n",
        "    for keyword in [\"train\", \"val\"]:\n",
        "        mask_path = \"dataset/leaf_img/{}_mask/\".format(keyword)\n",
        "        \n",
        "        # Create category section\n",
        "        # coco_format[\"categories\"] = create_category_annotation(category_ids)\n",
        "    \n",
        "        # Create images and annotations sections\n",
        "        coco_format[\"images\"], coco_format[\"annotations\"], annotation_cnt = images_annotations_info(mask_path)\n",
        "        with open(\"output/{}.json\".format(keyword),\"w\") as outfile:\n",
        "            json.dump(coco_format, outfile)\n",
        "        \n",
        "        print(\"Created %d annotations for images in folder: %s\" % (annotation_cnt, mask_path))"
      ],
      "metadata": {
        "colab": {
          "base_uri": "https://localhost:8080/"
        },
        "id": "U-_ljtygiY8L",
        "outputId": "a17b13b1-68d7-4fd6-f41a-a1634d91bb1c"
      },
      "execution_count": 92,
      "outputs": [
        {
          "output_type": "stream",
          "name": "stdout",
          "text": [
            "Created 11517 annotations for images in folder: dataset/leaf_img/train_mask/\n",
            "Created 463 annotations for images in folder: dataset/leaf_img/val_mask/\n"
          ]
        }
      ]
    },
    {
      "cell_type": "markdown",
      "source": [
        "# COCO to VGG\n",
        "https://annotate.officialstatistics.org/\n",
        "\n",
        "coco 로 붙러와서 json으로 저장\n",
        "\n",
        "via_region_data.json라는 이름으로 \n",
        "\n",
        "google drive의 dataset/leaf_img/train_mask/ 와 dataset/leaf_img/val_mask/\n",
        "\n",
        "각각에 올려두기. \n",
        "\n"
      ],
      "metadata": {
        "id": "3mhDeoN1jtdq"
      }
    },
    {
      "cell_type": "markdown",
      "source": [
        "### VGG annotation 손보기"
      ],
      "metadata": {
        "id": "qU3A2LWwjvrj"
      }
    },
    {
      "cell_type": "code",
      "source": [
        "# import json\n",
        "# import pprint\n",
        "\n",
        "\n",
        "# with open('/content/via_region_data (3).json', 'r') as f:\n",
        "\n",
        "#     json_data = json.load(f)\n",
        "\n",
        "# # print(json.dumps(json_data, indent=\"\\t\") )\n",
        "\n",
        "# for k,v in json_data.items():\n",
        "#   tmp = {}\n",
        "#   for i in range(len(v[\"regions\"])):\n",
        "#     #print(v[\"regions\"])\n",
        "#     v[\"regions\"][i][\"region_attributes\"] = {}\n",
        "#     tmp[i] = v[\"regions\"][i]\n",
        "#   #pprint.pprint(tmp)\n",
        "#   v[\"regions\"] = tmp\n",
        "\n",
        "# with open('/content/via_region_data.json', 'w', encoding='utf-8') as make_file:\n",
        "\n",
        "#     json.dump(json_data, make_file, indent=\"\\t\")"
      ],
      "metadata": {
        "colab": {
          "base_uri": "https://localhost:8080/",
          "height": 236
        },
        "id": "VtdFZXweJEFD",
        "outputId": "09df1b5c-830f-4e51-c8d4-5a5aa6e7927d"
      },
      "execution_count": 35,
      "outputs": [
        {
          "output_type": "error",
          "ename": "FileNotFoundError",
          "evalue": "ignored",
          "traceback": [
            "\u001b[0;31m---------------------------------------------------------------------------\u001b[0m",
            "\u001b[0;31mFileNotFoundError\u001b[0m                         Traceback (most recent call last)",
            "\u001b[0;32m<ipython-input-35-f63dfdbe46d1>\u001b[0m in \u001b[0;36m<module>\u001b[0;34m()\u001b[0m\n\u001b[1;32m      3\u001b[0m \u001b[0;34m\u001b[0m\u001b[0m\n\u001b[1;32m      4\u001b[0m \u001b[0;34m\u001b[0m\u001b[0m\n\u001b[0;32m----> 5\u001b[0;31m \u001b[0;32mwith\u001b[0m \u001b[0mopen\u001b[0m\u001b[0;34m(\u001b[0m\u001b[0;34m'/content/via_region_data (3).json'\u001b[0m\u001b[0;34m,\u001b[0m \u001b[0;34m'r'\u001b[0m\u001b[0;34m)\u001b[0m \u001b[0;32mas\u001b[0m \u001b[0mf\u001b[0m\u001b[0;34m:\u001b[0m\u001b[0;34m\u001b[0m\u001b[0;34m\u001b[0m\u001b[0m\n\u001b[0m\u001b[1;32m      6\u001b[0m \u001b[0;34m\u001b[0m\u001b[0m\n\u001b[1;32m      7\u001b[0m     \u001b[0mjson_data\u001b[0m \u001b[0;34m=\u001b[0m \u001b[0mjson\u001b[0m\u001b[0;34m.\u001b[0m\u001b[0mload\u001b[0m\u001b[0;34m(\u001b[0m\u001b[0mf\u001b[0m\u001b[0;34m)\u001b[0m\u001b[0;34m\u001b[0m\u001b[0;34m\u001b[0m\u001b[0m\n",
            "\u001b[0;31mFileNotFoundError\u001b[0m: [Errno 2] No such file or directory: '/content/via_region_data (3).json'"
          ]
        }
      ]
    },
    {
      "cell_type": "markdown",
      "source": [
        "# 마무리된 dataset 옮기기"
      ],
      "metadata": {
        "id": "PEfkozManhNv"
      }
    },
    {
      "cell_type": "code",
      "source": [
        "pwd # 현재위치확인"
      ],
      "metadata": {
        "colab": {
          "base_uri": "https://localhost:8080/",
          "height": 35
        },
        "id": "0wXyUAaXVGMR",
        "outputId": "a30b77f0-fa2b-42f9-91a4-171303a44a73"
      },
      "execution_count": 102,
      "outputs": [
        {
          "output_type": "execute_result",
          "data": {
            "application/vnd.google.colaboratory.intrinsic+json": {
              "type": "string"
            },
            "text/plain": [
              "'/gdrive/MyDrive/AI/maskrcnn/image-to-coco-json-converter/dataset/leaf_img'"
            ]
          },
          "metadata": {},
          "execution_count": 102
        }
      ]
    },
    {
      "cell_type": "code",
      "source": [
        "cd /gdrive/MyDrive/AI/maskrcnn/image-to-coco-json-converter/dataset/leaf_img/"
      ],
      "metadata": {
        "colab": {
          "base_uri": "https://localhost:8080/"
        },
        "id": "e11UC-qUnm8w",
        "outputId": "d409dc2a-eaf4-468f-c364-d211a7a9ba69"
      },
      "execution_count": 94,
      "outputs": [
        {
          "output_type": "stream",
          "name": "stdout",
          "text": [
            "/gdrive/MyDrive/AI/maskrcnn/image-to-coco-json-converter/dataset/leaf_img\n"
          ]
        }
      ]
    },
    {
      "cell_type": "code",
      "source": [
        "!rm -d -r /gdrive/MyDrive/AI/maskrcnn/Mask_RCNN/leaf_dataset/train\n",
        "!rm -d -r /gdrive/MyDrive/AI/maskrcnn/Mask_RCNN/leaf_dataset/val\n",
        "!mkdir /gdrive/MyDrive/AI/maskrcnn/Mask_RCNN/leaf_dataset/train\n",
        "!mkdir /gdrive/MyDrive/AI/maskrcnn/Mask_RCNN/leaf_dataset/val"
      ],
      "metadata": {
        "id": "VYr6b1L2nvAU"
      },
      "execution_count": 100,
      "outputs": []
    },
    {
      "cell_type": "code",
      "source": [
        "!cp train_mask/* /gdrive/MyDrive/AI/maskrcnn/Mask_RCNN/leaf_dataset/train/\n",
        "!cp val_mask/* /gdrive/MyDrive/AI/maskrcnn/Mask_RCNN/leaf_dataset/val/"
      ],
      "metadata": {
        "id": "uGmvP93Hn3kO"
      },
      "execution_count": 101,
      "outputs": []
    },
    {
      "cell_type": "code",
      "source": [
        ""
      ],
      "metadata": {
        "id": "DRSasNdcoWF4"
      },
      "execution_count": null,
      "outputs": []
    },
    {
      "cell_type": "code",
      "source": [
        ""
      ],
      "metadata": {
        "id": "5Vqvp4EgoFE9"
      },
      "execution_count": null,
      "outputs": []
    }
  ],
  "metadata": {
    "kernelspec": {
      "display_name": "Python 3",
      "language": "python",
      "name": "python3"
    },
    "language_info": {
      "codemirror_mode": {
        "name": "ipython",
        "version": 3
      },
      "file_extension": ".py",
      "mimetype": "text/x-python",
      "name": "python",
      "nbconvert_exporter": "python",
      "pygments_lexer": "ipython3",
      "version": "3.9.6"
    },
    "colab": {
      "name": "create-custom-coco-dataset.ipynb",
      "provenance": [],
      "collapsed_sections": [],
      "include_colab_link": true
    }
  },
  "nbformat": 4,
  "nbformat_minor": 0
}